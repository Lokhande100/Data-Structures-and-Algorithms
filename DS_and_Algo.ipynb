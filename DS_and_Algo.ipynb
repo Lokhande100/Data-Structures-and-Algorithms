{
  "nbformat": 4,
  "nbformat_minor": 0,
  "metadata": {
    "colab": {
      "name": "DS and Algo.ipynb",
      "provenance": [],
      "authorship_tag": "ABX9TyOds3rxU1NpDK777IR/8giT",
      "include_colab_link": true
    },
    "kernelspec": {
      "name": "python3",
      "display_name": "Python 3"
    },
    "language_info": {
      "name": "python"
    }
  },
  "cells": [
    {
      "cell_type": "markdown",
      "metadata": {
        "id": "view-in-github",
        "colab_type": "text"
      },
      "source": [
        "<a href=\"https://colab.research.google.com/github/Lokhande10/Data-Structures-and-Algorithms/blob/main/DS_and_Algo.ipynb\" target=\"_parent\"><img src=\"https://colab.research.google.com/assets/colab-badge.svg\" alt=\"Open In Colab\"/></a>"
      ]
    },
    {
      "cell_type": "code",
      "execution_count": null,
      "metadata": {
        "colab": {
          "base_uri": "https://localhost:8080/"
        },
        "id": "GYXwkBEkx9-a",
        "outputId": "56bcf430-e925-4c99-8017-aa2c357c1c8f"
      },
      "outputs": [
        {
          "output_type": "execute_result",
          "data": {
            "text/plain": [
              "7.0"
            ]
          },
          "metadata": {},
          "execution_count": 4
        }
      ],
      "source": [
        "import math\n",
        "math.sqrt(49)\n"
      ]
    },
    {
      "cell_type": "code",
      "source": [
        "math.ceil(49.1)"
      ],
      "metadata": {
        "colab": {
          "base_uri": "https://localhost:8080/"
        },
        "id": "O4wDTO6tyjC5",
        "outputId": "cebf2812-5cad-4dc7-e415-0f8be19e8cd9"
      },
      "execution_count": null,
      "outputs": [
        {
          "output_type": "execute_result",
          "data": {
            "text/plain": [
              "50"
            ]
          },
          "metadata": {},
          "execution_count": 5
        }
      ]
    },
    {
      "cell_type": "code",
      "source": [
        "def locate_card(cards, query):\n",
        "    pass"
      ],
      "metadata": {
        "id": "gaRUbS0Fyzu-"
      },
      "execution_count": 1,
      "outputs": []
    },
    {
      "cell_type": "code",
      "source": [
        "#Test cases\n",
        "cards = [13, 11, 10, 7, 4, 3, 1, 0]\n",
        "query = 7\n",
        "output = 3"
      ],
      "metadata": {
        "id": "X29x85JDIEiK"
      },
      "execution_count": 7,
      "outputs": []
    },
    {
      "cell_type": "code",
      "source": [
        "result = locate_card(cards, query)\n",
        "print(result)"
      ],
      "metadata": {
        "colab": {
          "base_uri": "https://localhost:8080/"
        },
        "id": "dHdOcSrLIJDo",
        "outputId": "42ae3a90-24c3-40e2-b4ee-67b88aa92320"
      },
      "execution_count": 3,
      "outputs": [
        {
          "output_type": "stream",
          "name": "stdout",
          "text": [
            "None\n"
          ]
        }
      ]
    },
    {
      "cell_type": "code",
      "source": [
        "result == output"
      ],
      "metadata": {
        "colab": {
          "base_uri": "https://localhost:8080/"
        },
        "id": "wF1dKOCXIJGH",
        "outputId": "3248297c-f9f9-4c97-b9ea-56ebcc16c477"
      },
      "execution_count": 4,
      "outputs": [
        {
          "output_type": "execute_result",
          "data": {
            "text/plain": [
              "False"
            ]
          },
          "metadata": {},
          "execution_count": 4
        }
      ]
    },
    {
      "cell_type": "code",
      "source": [
        "test = {\n",
        "    'input': { \n",
        "        'cards': [13, 11, 10, 7, 4, 3, 1, 0], \n",
        "        'query': 7\n",
        "    },\n",
        "    'output': 3\n",
        "}"
      ],
      "metadata": {
        "id": "aFgQEp4oIJI7"
      },
      "execution_count": 5,
      "outputs": []
    },
    {
      "cell_type": "code",
      "source": [
        "locate_card(**test['input']) == test['output']"
      ],
      "metadata": {
        "colab": {
          "base_uri": "https://localhost:8080/"
        },
        "id": "G13cwGbGIYK9",
        "outputId": "843870ad-d226-4213-85e4-1936779846a4"
      },
      "execution_count": 6,
      "outputs": [
        {
          "output_type": "execute_result",
          "data": {
            "text/plain": [
              "False"
            ]
          },
          "metadata": {},
          "execution_count": 6
        }
      ]
    },
    {
      "cell_type": "code",
      "source": [
        "#Edge Cases: It's likely that you didn't think of all of the above cases when you read the problem for the first time. \n",
        "#Some of these (like the empty array or query not occurring in cards) are called edge cases, as they represent rare or extreme examples."
      ],
      "metadata": {
        "id": "n62wx_iaKQea"
      },
      "execution_count": 8,
      "outputs": []
    },
    {
      "cell_type": "code",
      "source": [
        "# Create test cases\n",
        "tests = []"
      ],
      "metadata": {
        "id": "kWNFr0j1KQgq"
      },
      "execution_count": 9,
      "outputs": []
    },
    {
      "cell_type": "code",
      "source": [
        "# query occurs in the middle\n",
        "tests.append(test)\n",
        "\n",
        "tests.append({\n",
        "    'input': {\n",
        "        'cards': [13, 11, 10, 7, 4, 3, 1, 0],\n",
        "        'query': 1\n",
        "    },\n",
        "    'output': 6\n",
        "})"
      ],
      "metadata": {
        "id": "6QmqYgb1KQjI"
      },
      "execution_count": 10,
      "outputs": []
    },
    {
      "cell_type": "code",
      "source": [
        "# query is the first element\n",
        "tests.append({\n",
        "    'input': {\n",
        "        'cards': [4, 2, 1, -1],\n",
        "        'query': 4\n",
        "    },\n",
        "    'output': 0\n",
        "})"
      ],
      "metadata": {
        "id": "X7XYNQKhKQls"
      },
      "execution_count": 11,
      "outputs": []
    },
    {
      "cell_type": "code",
      "source": [
        "# query is the last element\n",
        "tests.append({\n",
        "    'input': {\n",
        "        'cards': [3, -1, -9, -127],\n",
        "        'query': -127\n",
        "    },\n",
        "    'output': 3\n",
        "})"
      ],
      "metadata": {
        "id": "MVBnMQ__KQoK"
      },
      "execution_count": 12,
      "outputs": []
    },
    {
      "cell_type": "code",
      "source": [
        "# cards contains just one element, query\n",
        "tests.append({\n",
        "    'input': {\n",
        "        'cards': [6],\n",
        "        'query': 6\n",
        "    },\n",
        "    'output': 0 \n",
        "})"
      ],
      "metadata": {
        "id": "ky--ghTNKQp6"
      },
      "execution_count": 13,
      "outputs": []
    },
    {
      "cell_type": "code",
      "source": [
        "#assume that our function will return -1 in case cards does not contain query.\n",
        "\n",
        "# cards does not contain query \n",
        "tests.append({\n",
        "    'input': {\n",
        "        'cards': [9, 7, 5, 2, -9],\n",
        "        'query': 4\n",
        "    },\n",
        "    'output': -1\n",
        "})"
      ],
      "metadata": {
        "id": "UzQHcDL5McV1"
      },
      "execution_count": 14,
      "outputs": []
    },
    {
      "cell_type": "code",
      "source": [
        "# cards is empty\n",
        "tests.append({\n",
        "    'input': {\n",
        "        'cards': [],\n",
        "        'query': 7\n",
        "    },\n",
        "    'output': -1\n",
        "})"
      ],
      "metadata": {
        "id": "pGFYIZOeMcX7"
      },
      "execution_count": 15,
      "outputs": []
    },
    {
      "cell_type": "code",
      "source": [
        "# numbers can repeat in cards\n",
        "tests.append({\n",
        "    'input': {\n",
        "        'cards': [8, 8, 6, 6, 6, 6, 6, 3, 2, 2, 2, 0, 0, 0],\n",
        "        'query': 3\n",
        "    },\n",
        "    'output': 7\n",
        "})"
      ],
      "metadata": {
        "id": "JUjquZjNMcZx"
      },
      "execution_count": 16,
      "outputs": []
    },
    {
      "cell_type": "code",
      "source": [
        "# query occurs multiple times\n",
        "tests.append({\n",
        "    'input': {\n",
        "        'cards': [8, 8, 6, 6, 6, 6, 6, 6, 3, 2, 2, 2, 0, 0, 0],\n",
        "        'query': 6\n",
        "    },\n",
        "    'output': 2\n",
        "})"
      ],
      "metadata": {
        "id": "wUrWu71nMcb2"
      },
      "execution_count": 17,
      "outputs": []
    },
    {
      "cell_type": "code",
      "source": [
        "tests"
      ],
      "metadata": {
        "colab": {
          "base_uri": "https://localhost:8080/"
        },
        "id": "tSwQihijMceB",
        "outputId": "e81b72ab-ddde-49b4-b8f0-e5752a3e1bdf"
      },
      "execution_count": 18,
      "outputs": [
        {
          "output_type": "execute_result",
          "data": {
            "text/plain": [
              "[{'input': {'cards': [13, 11, 10, 7, 4, 3, 1, 0], 'query': 7}, 'output': 3},\n",
              " {'input': {'cards': [13, 11, 10, 7, 4, 3, 1, 0], 'query': 1}, 'output': 6},\n",
              " {'input': {'cards': [4, 2, 1, -1], 'query': 4}, 'output': 0},\n",
              " {'input': {'cards': [3, -1, -9, -127], 'query': -127}, 'output': 3},\n",
              " {'input': {'cards': [6], 'query': 6}, 'output': 0},\n",
              " {'input': {'cards': [9, 7, 5, 2, -9], 'query': 4}, 'output': -1},\n",
              " {'input': {'cards': [], 'query': 7}, 'output': -1},\n",
              " {'input': {'cards': [8, 8, 6, 6, 6, 6, 6, 3, 2, 2, 2, 0, 0, 0], 'query': 3},\n",
              "  'output': 7},\n",
              " {'input': {'cards': [8, 8, 6, 6, 6, 6, 6, 6, 3, 2, 2, 2, 0, 0, 0],\n",
              "   'query': 6},\n",
              "  'output': 2}]"
            ]
          },
          "metadata": {},
          "execution_count": 18
        }
      ]
    },
    {
      "cell_type": "code",
      "source": [
        ""
      ],
      "metadata": {
        "id": "0eZHALfeMcg1"
      },
      "execution_count": null,
      "outputs": []
    },
    {
      "cell_type": "code",
      "source": [
        ""
      ],
      "metadata": {
        "id": "0DcVapuhKQsu"
      },
      "execution_count": null,
      "outputs": []
    }
  ]
}