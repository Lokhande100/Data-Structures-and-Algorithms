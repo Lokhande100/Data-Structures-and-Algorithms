{
  "cells": [
    {
      "cell_type": "markdown",
      "metadata": {
        "id": "view-in-github",
        "colab_type": "text"
      },
      "source": [
        "<a href=\"https://colab.research.google.com/github/Lokhande10/Data-Structures-and-Algorithms/blob/main/python_divide_and_conquer_assignment.ipynb\" target=\"_parent\"><img src=\"https://colab.research.google.com/assets/colab-badge.svg\" alt=\"Open In Colab\"/></a>"
      ]
    },
    {
      "cell_type": "code",
      "execution_count": 1,
      "id": "a5d713f9",
      "metadata": {
        "colab": {
          "base_uri": "https://localhost:8080/"
        },
        "id": "a5d713f9",
        "outputId": "4fd56c78-4af1-4a5f-d381-2b91c2652613"
      },
      "outputs": [
        {
          "output_type": "stream",
          "name": "stdout",
          "text": [
            "\u001b[?25l\r\u001b[K     |████▊                           | 10 kB 19.6 MB/s eta 0:00:01\r\u001b[K     |█████████▌                      | 20 kB 24.6 MB/s eta 0:00:01\r\u001b[K     |██████████████▎                 | 30 kB 29.3 MB/s eta 0:00:01\r\u001b[K     |███████████████████             | 40 kB 31.5 MB/s eta 0:00:01\r\u001b[K     |███████████████████████▉        | 51 kB 23.1 MB/s eta 0:00:01\r\u001b[K     |████████████████████████████▋   | 61 kB 25.5 MB/s eta 0:00:01\r\u001b[K     |████████████████████████████████| 68 kB 5.8 MB/s \n",
            "\u001b[?25h  Building wheel for uuid (setup.py) ... \u001b[?25l\u001b[?25hdone\n"
          ]
        }
      ],
      "source": [
        "# Jovian Commit Essentials\n",
        "# Please retain and execute this cell without modifying the contents for `jovian.commit` to work\n",
        "!pip install jovian --upgrade -q\n",
        "import jovian\n",
        "jovian.set_project('python-divide-and-conquer-assignment')\n",
        "jovian.set_colab_id('1o5HTqtU-Mk0Pwm904Y2NFo9ktSqLSXxV')"
      ]
    },
    {
      "cell_type": "markdown",
      "id": "bdff7a05",
      "metadata": {
        "id": "bdff7a05"
      },
      "source": [
        "# Assignment 3 - Divide-n-Conquer Algorithms in Python\n",
        "\n",
        "_This assignment is a part of the course [\"Data Structures and Algorithms in Python\"](https://jovian.ai/learn/data-structures-and-algorithms-in-python)._\n",
        "\n",
        "In this assignment, you will implement an efficient algorithm for polynomial multiplication.\n",
        "\n",
        "As you go through this notebook, you will find the symbol **???** in certain places. To complete this assignment, you must replace all the **???** with appropriate values, expressions or statements to ensure that the notebook runs properly end-to-end. \n",
        "\n",
        "**Guidelines**\n",
        "\n",
        "1. Make sure to run all the code cells, otherwise you may get errors like `NameError` for undefined variables.\n",
        "2. Do not change variable names, delete cells or disturb other existing code. It may cause problems during evaluation.\n",
        "3. In some cases, you may need to add some code cells or new statements before or after the line of code containing the **???**. \n",
        "4. Since you'll be using a temporary online service for code execution, save your work by running `jovian.commit` at regular intervals.\n",
        "5. Questions marked **(Optional)** will not be considered for evaluation, and can be skipped. They are for your learning.\n",
        "6. If you are stuck, you can ask for help on the [community forum] (TODO - add link). Post errors or ask for hints, but **please don't ask for OR share the full working answer code** on the forum.\n",
        "7. There are some tests included with this notebook to help you test your implementation. However, after submission your code will be tested with some hidden test cases. Make sure to test your code exhaustively to cover all edge cases.\n",
        "\n",
        "\n",
        "**Important Links**\n",
        "\n",
        "* Submit your work here: https://jovian.ai/learn/data-structures-and-algorithms-in-python/assignment/assignment-3-sorting-and-divide-conquer-practice\n",
        "* Ask questions and get help: https://jovian.ai/forum/c/data-structures-and-algorithms-in-python/assignment-3/89\n",
        "* Lesson 3 video for review: https://jovian.ai/learn/data-structures-and-algorithms-in-python/lesson/lesson-3-sorting-algorithms-and-divide-and-conquer\n",
        "* Lesson 3 notebook for review: https://jovian.ai/aakashns/python-sorting-divide-and-conquer\n"
      ]
    },
    {
      "cell_type": "markdown",
      "id": "a356a26d",
      "metadata": {
        "id": "a356a26d"
      },
      "source": [
        "### How to Run the Code and Save Your Work\n",
        "\n",
        "**Option 1: Running using free online resources (1-click, recommended)**: Click the **Run** button at the top of this page and select **Run on Binder**. You can also select \"Run on Colab\" or \"Run on Kaggle\", but you'll need to create an account on [Google Colab](https://colab.research.google.com) or [Kaggle](https://kaggle.com) to use these platforms.\n",
        "\n",
        "\n",
        "**Option 2: Running on your computer locally**: To run the code on your computer locally, you'll need to set up [Python](https://www.python.org) & [Conda](https://docs.conda.io/projects/conda/en/latest/user-guide/install/), download the notebook and install the required libraries. Click the **Run** button at the top of this page, select the **Run Locally** option, and follow the instructions.\n",
        "\n",
        "**Saving your work**: You can save a snapshot of the assignment to your [Jovian](https://jovian.ai) profile, so that you can access it later and continue your work. Keep saving your work by running `jovian.commit` from time to time."
      ]
    },
    {
      "cell_type": "code",
      "execution_count": 2,
      "id": "a87ecef0",
      "metadata": {
        "id": "a87ecef0"
      },
      "outputs": [],
      "source": [
        "project='python-divide-and-conquer-assignment'"
      ]
    },
    {
      "cell_type": "code",
      "execution_count": 3,
      "id": "4820de47",
      "metadata": {
        "id": "4820de47"
      },
      "outputs": [],
      "source": [
        "!pip install jovian --upgrade --quiet"
      ]
    },
    {
      "cell_type": "code",
      "execution_count": 4,
      "id": "86c9017e",
      "metadata": {
        "colab": {
          "base_uri": "https://localhost:8080/",
          "height": 124
        },
        "id": "86c9017e",
        "outputId": "0904219b-1e31-4a54-97e8-637c311296f1"
      },
      "outputs": [
        {
          "output_type": "stream",
          "name": "stdout",
          "text": [
            "[jovian] Detected Colab notebook...\u001b[0m\n",
            "[jovian] Please enter your API key ( from https://jovian.ai/ ):\u001b[0m\n",
            "API KEY: ··········\n",
            "[jovian] Uploading colab notebook to Jovian...\u001b[0m\n",
            "Committed successfully! https://jovian.ai/nikhil-lokhande/python-divide-and-conquer-assignment\n"
          ]
        },
        {
          "output_type": "execute_result",
          "data": {
            "application/vnd.google.colaboratory.intrinsic+json": {
              "type": "string"
            },
            "text/plain": [
              "'https://jovian.ai/nikhil-lokhande/python-divide-and-conquer-assignment'"
            ]
          },
          "metadata": {},
          "execution_count": 4
        }
      ],
      "source": [
        "import jovian\n",
        "jovian.commit(project=project, privacy='secret', environment=None)"
      ]
    },
    {
      "cell_type": "markdown",
      "id": "4e8c8628",
      "metadata": {
        "id": "4e8c8628"
      },
      "source": [
        "## Problem Statement - Polynomial Multiplication\n",
        "\n",
        "> Given two polynomials represented by two lists, write a function that efficiently multiplies given two polynomials. For example, the lists `[2, 0, 5, 7]` and `[3, 4, 2]` represent the polynomials $2 + 5x^2 + 7x^3$ and $3 + 4x + 2x^2$. \n",
        "> \n",
        "> Their product is \n",
        ">\n",
        "> $(2 \\times 3) + (2 \\times 4 + 0 \\times 3)x + (2 \\times 2 + 3 \\times 5 + 4 \\times 0)x^2 + (7 \\times 3 + 5 \\times 4 + 0 \\times 2)x^3 + (7 \\times 4 + 5 \\times 2)x^4 + (7 \\times 2)x^5$ i.e. \n",
        ">\n",
        ">$6 + 8x + 19x^2 + 41x^3 + 38x^4 + 14x^5$\n",
        "> \n",
        ">It can be represented by the list `[6, 8, 19, 41, 38, 14]`.\n"
      ]
    },
    {
      "cell_type": "markdown",
      "id": "09db4341",
      "metadata": {
        "id": "09db4341"
      },
      "source": [
        "## The Method\n",
        "\n",
        "Here's the systematic strategy we'll apply for solving problems:\n",
        "\n",
        "1. State the problem clearly. Identify the input & output formats.\n",
        "2. Come up with some example inputs & outputs. Try to cover all edge cases.\n",
        "3. Come up with a correct solution for the problem. State it in plain English.\n",
        "4. Implement the solution and test it using example inputs. Fix bugs, if any.\n",
        "5. Analyze the algorithm's complexity and identify inefficiencies, if any.\n",
        "6. Apply the right technique to overcome the inefficiency. Repeat steps 3 to 6.\n",
        "\n",
        "This approach is explained in detail in [Lesson 1](https://jovian.ai/learn/data-structures-and-algorithms-in-python/lesson/lesson-1-binary-search-linked-lists-and-complexity) of the course. Let's apply this approach step-by-step."
      ]
    },
    {
      "cell_type": "markdown",
      "id": "f7b8a586",
      "metadata": {
        "id": "f7b8a586"
      },
      "source": [
        "## Solution\n",
        "\n",
        "\n",
        "### 1. State the problem clearly. Identify the input & output formats.\n",
        "\n",
        "While this problem is stated clearly enough, it's always useful to try and express in your own words, in a way that makes it most clear for you. \n",
        "\n",
        "\n",
        "**Problem**\n",
        "\n",
        ">Given two polynomials represented by two lists, write a function that efficiently multiplies given two polynomials. For example, the lists [2, 0, 5, 7] and [3, 4, 2] represent the polynomials 2+5x2+7x3 and 3+4x+2x2.\n",
        "Their product is\n",
        "\n",
        "  (2×3)+(2×4+0×3)x+(2×2+3×5+4×0)x2+(7×3+5×4+0×2)x3+(7×4+5×2)x4+(7×2)x5 i.e.\n",
        "\n",
        "  6+8x+19x2+41x3+38x4+14x5\n",
        "\n",
        "  It can be represented by the list [6, 8, 19, 41, 38, 14].\n",
        "\n",
        "\n",
        "<br/>\n",
        "\n",
        "\n",
        "**Input**\n",
        "\n",
        "\n",
        "[2, 4, 0, 0, 5] and [4, 9, 5, 4]\n",
        "\n",
        "[2, 4] and [2, 7, 5]\n",
        "\n",
        "\n",
        "\n",
        "\n",
        "**Output**\n",
        "\n",
        "\n",
        "    [8 34 46 28 36 45 25 20]\n",
        "    [4 22 38 20]\n",
        "\n",
        "\n",
        "<br/>\n",
        "\n",
        "Based on the above, we can now create a signature of our function:"
      ]
    },
    {
      "cell_type": "code",
      "execution_count": 5,
      "id": "dcace18e",
      "metadata": {
        "id": "dcace18e"
      },
      "outputs": [],
      "source": [
        "def multiply(poly1, poly2):\n",
        "    pass"
      ]
    },
    {
      "cell_type": "code",
      "execution_count": 6,
      "id": "280e9f1f",
      "metadata": {
        "id": "280e9f1f"
      },
      "outputs": [],
      "source": [
        "import jovian"
      ]
    },
    {
      "cell_type": "code",
      "execution_count": 7,
      "id": "de875820",
      "metadata": {
        "colab": {
          "base_uri": "https://localhost:8080/",
          "height": 89
        },
        "id": "de875820",
        "outputId": "76666363-75b8-46d9-d031-01a745794c1e"
      },
      "outputs": [
        {
          "output_type": "stream",
          "name": "stdout",
          "text": [
            "[jovian] Detected Colab notebook...\u001b[0m\n",
            "[jovian] Uploading colab notebook to Jovian...\u001b[0m\n",
            "Committed successfully! https://jovian.ai/nikhil-lokhande/python-divide-and-conquer-assignment\n"
          ]
        },
        {
          "output_type": "execute_result",
          "data": {
            "application/vnd.google.colaboratory.intrinsic+json": {
              "type": "string"
            },
            "text/plain": [
              "'https://jovian.ai/nikhil-lokhande/python-divide-and-conquer-assignment'"
            ]
          },
          "metadata": {},
          "execution_count": 7
        }
      ],
      "source": [
        "jovian.commit()"
      ]
    },
    {
      "cell_type": "markdown",
      "id": "e9d3bdf9",
      "metadata": {
        "id": "e9d3bdf9"
      },
      "source": [
        "### 2. Come up with some example inputs & outputs. Try to cover all edge cases.\n",
        "\n",
        "Our function should be able to handle any set of valid inputs we pass into it. List a few scenarios here:\n",
        "\n",
        "1.One list is empty (result would be 0s)\n",
        "2.One list is of 1s (result would be Other List).\n",
        "3.Both lists are same.\n",
        "\n",
        "(add more if required)\n",
        "\n",
        "\n",
        "Create a test case of each of the above scenarios. We'll express our test cases as dictionaries, to test them easily. Each dictionary will contain 2 keys: `input` (a dictionary itself containing one key for each argument to the function and `output` (the expected result from the function). "
      ]
    },
    {
      "cell_type": "code",
      "execution_count": 8,
      "id": "4e88de46",
      "metadata": {
        "id": "4e88de46"
      },
      "outputs": [],
      "source": [
        "test0 = {\n",
        "    'input': {'poly1': [2, 0, 5, 7],'poly2': [3, 4, 2]\n",
        "    },\n",
        "    'output': [6, 8, 19, 41, 38, 14]\n",
        "}"
      ]
    },
    {
      "cell_type": "code",
      "execution_count": 9,
      "id": "0382e19e",
      "metadata": {
        "id": "0382e19e"
      },
      "outputs": [],
      "source": [
        "test1 = {\n",
        "    'input': {\n",
        "        'poly1': [2, 4, 0, 0, 5],\n",
        "        'poly2': [4, 9, 5, 4]\n",
        "    },\n",
        "    'output': [8, 34, 46, 28, 36, 45, 25, 20]\n",
        "}\n"
      ]
    },
    {
      "cell_type": "code",
      "execution_count": 10,
      "id": "be5d99e4",
      "metadata": {
        "id": "be5d99e4"
      },
      "outputs": [],
      "source": [
        "test2 = {\n",
        "    'input': {\n",
        "        'poly1': [2, 4],\n",
        "        'poly2': [2, 7, 5]\n",
        "    },\n",
        "    'output': [4, 22, 38, 20]\n",
        "}"
      ]
    },
    {
      "cell_type": "code",
      "execution_count": 11,
      "id": "e219210c",
      "metadata": {
        "id": "e219210c"
      },
      "outputs": [],
      "source": [
        "test3 = {\n",
        "    'input': {\n",
        "        'poly1': [1, 1, 1],\n",
        "        'poly2': [2, 7, 5]\n",
        "    },\n",
        "    'output': [2, 9, 14, 12, 5]\n",
        "}"
      ]
    },
    {
      "cell_type": "code",
      "execution_count": 12,
      "id": "22eb097c",
      "metadata": {
        "id": "22eb097c"
      },
      "outputs": [],
      "source": [
        "test4 = {\n",
        "    'input': {\n",
        "        'poly1': [],\n",
        "        'poly2': [2, 7, 4]\n",
        "    },\n",
        "    'output': []\n",
        "}"
      ]
    },
    {
      "cell_type": "code",
      "execution_count": 13,
      "id": "57f59ca2",
      "metadata": {
        "id": "57f59ca2"
      },
      "outputs": [],
      "source": [
        "test5 = {\n",
        "    'input': {\n",
        "        'poly1': [0, 1],\n",
        "        'poly2': [2, 6, -5, 3, 4]\n",
        "    },\n",
        "    'output': [0, 2, 6, -5, 3, 4]\n",
        "}"
      ]
    },
    {
      "cell_type": "markdown",
      "id": "0319c936",
      "metadata": {
        "id": "0319c936"
      },
      "source": [
        "Let's store all the test cases in a list, for easier automated testing."
      ]
    },
    {
      "cell_type": "code",
      "execution_count": 14,
      "id": "254f1add",
      "metadata": {
        "id": "254f1add"
      },
      "outputs": [],
      "source": [
        "tests = [test0, test1, test2, test3, test4, test5]"
      ]
    },
    {
      "cell_type": "code",
      "execution_count": 15,
      "id": "c7416909",
      "metadata": {
        "colab": {
          "base_uri": "https://localhost:8080/"
        },
        "id": "c7416909",
        "outputId": "f5d96bc0-7a7e-44e6-b8cc-0c8889ae0eae"
      },
      "outputs": [
        {
          "output_type": "execute_result",
          "data": {
            "text/plain": [
              "[{'input': {'poly1': [2, 0, 5, 7], 'poly2': [3, 4, 2]},\n",
              "  'output': [6, 8, 19, 41, 38, 14]},\n",
              " {'input': {'poly1': [2, 4, 0, 0, 5], 'poly2': [4, 9, 5, 4]},\n",
              "  'output': [8, 34, 46, 28, 36, 45, 25, 20]},\n",
              " {'input': {'poly1': [2, 4], 'poly2': [2, 7, 5]}, 'output': [4, 22, 38, 20]},\n",
              " {'input': {'poly1': [1, 1, 1], 'poly2': [2, 7, 5]},\n",
              "  'output': [2, 9, 14, 12, 5]},\n",
              " {'input': {'poly1': [], 'poly2': [2, 7, 4]}, 'output': []},\n",
              " {'input': {'poly1': [0, 1], 'poly2': [2, 6, -5, 3, 4]},\n",
              "  'output': [0, 2, 6, -5, 3, 4]}]"
            ]
          },
          "metadata": {},
          "execution_count": 15
        }
      ],
      "source": [
        "tests"
      ]
    },
    {
      "cell_type": "code",
      "execution_count": 15,
      "id": "f4792378",
      "metadata": {
        "id": "f4792378"
      },
      "outputs": [],
      "source": [
        ""
      ]
    },
    {
      "cell_type": "code",
      "execution_count": 15,
      "id": "31f233de",
      "metadata": {
        "id": "31f233de"
      },
      "outputs": [],
      "source": [
        ""
      ]
    },
    {
      "cell_type": "code",
      "execution_count": 16,
      "id": "5013dc5a",
      "metadata": {
        "id": "5013dc5a"
      },
      "outputs": [],
      "source": [
        "import jovian"
      ]
    },
    {
      "cell_type": "code",
      "execution_count": 17,
      "id": "d087c8a6",
      "metadata": {
        "colab": {
          "base_uri": "https://localhost:8080/",
          "height": 89
        },
        "id": "d087c8a6",
        "outputId": "3ea472da-4f62-4862-95a0-5373a9fbcb45"
      },
      "outputs": [
        {
          "output_type": "stream",
          "name": "stdout",
          "text": [
            "[jovian] Detected Colab notebook...\u001b[0m\n",
            "[jovian] Uploading colab notebook to Jovian...\u001b[0m\n",
            "Committed successfully! https://jovian.ai/nikhil-lokhande/python-divide-and-conquer-assignment\n"
          ]
        },
        {
          "output_type": "execute_result",
          "data": {
            "application/vnd.google.colaboratory.intrinsic+json": {
              "type": "string"
            },
            "text/plain": [
              "'https://jovian.ai/nikhil-lokhande/python-divide-and-conquer-assignment'"
            ]
          },
          "metadata": {},
          "execution_count": 17
        }
      ],
      "source": [
        "jovian.commit()"
      ]
    },
    {
      "cell_type": "markdown",
      "id": "1a973446",
      "metadata": {
        "id": "1a973446"
      },
      "source": [
        "### 3. Come up with a correct solution for the problem. State it in plain English.\n",
        "\n",
        "Our first goal should always be to come up with a _correct_ solution to the problem, which may not necessarily be the most _efficient_ solution. \n",
        "\n",
        "Here's the simplest solution: If you have lists `poly1` and `poly2` representing polynomials of length $m$ and $n$ respectively, the highest degree of the exponents are $m-1$ and $n-1$ respectively. Their product has the degree $(m - 1) + (n - 1)$ i.e $m + n - 2$. The list representing the product has the length $m + n - 1$. So, we can create a list `result` of length $m + n - 1$, and set \n",
        "\n",
        "`result[k]` = Sum of all the pairs `poly1[i] * poly2[j]` where `i+j = k`\n",
        "\n",
        "Example:\n",
        "\n",
        "$(2 + 5x^2 + 7x^3) \\times (3 + 4x + 2x^2)$\n",
        "\n",
        "$= (2 \\times 3) + (2 \\times 4 + 0 \\times 3)x + (2 \\times 2 + 3 \\times 5 + 4 \\times 0)x^2 + (7 \\times 3 + 5 \\times 4 + 0 \\times 2)x^3 + (7 \\times 4 + 5 \\times 2)x^4 + (7 \\times 2)x^5$\n",
        "\n",
        "$= 6 + 8x + 19x^2 + 41x^3 + 38x^4 + 14x^5$\n",
        "\n",
        "\n",
        "\n",
        "\n",
        "\n",
        "\n",
        "\n",
        "\n",
        "(add more steps if required)\n",
        "\n",
        "\n",
        "Let's save and upload our work before continuing.\n",
        "\n"
      ]
    },
    {
      "cell_type": "code",
      "execution_count": 41,
      "id": "e22ccbc9",
      "metadata": {
        "id": "e22ccbc9"
      },
      "outputs": [],
      "source": [
        "import jovian"
      ]
    },
    {
      "cell_type": "code",
      "execution_count": 19,
      "id": "3d478c3f",
      "metadata": {
        "id": "3d478c3f",
        "outputId": "21cb003a-68b4-452f-8e2d-2692f41e3617",
        "colab": {
          "base_uri": "https://localhost:8080/",
          "height": 89
        }
      },
      "outputs": [
        {
          "output_type": "stream",
          "name": "stdout",
          "text": [
            "[jovian] Detected Colab notebook...\u001b[0m\n",
            "[jovian] Uploading colab notebook to Jovian...\u001b[0m\n",
            "Committed successfully! https://jovian.ai/nikhil-lokhande/python-divide-and-conquer-assignment\n"
          ]
        },
        {
          "output_type": "execute_result",
          "data": {
            "application/vnd.google.colaboratory.intrinsic+json": {
              "type": "string"
            },
            "text/plain": [
              "'https://jovian.ai/nikhil-lokhande/python-divide-and-conquer-assignment'"
            ]
          },
          "metadata": {},
          "execution_count": 19
        }
      ],
      "source": [
        "jovian.commit()"
      ]
    },
    {
      "cell_type": "markdown",
      "id": "20f3fe2e",
      "metadata": {
        "id": "20f3fe2e"
      },
      "source": [
        "###  4. Implement the solution and test it using example inputs. Fix bugs, if any.\n",
        "\n",
        "Implement the solution"
      ]
    },
    {
      "cell_type": "code",
      "execution_count": 20,
      "id": "bd8ac2bc",
      "metadata": {
        "id": "bd8ac2bc"
      },
      "outputs": [],
      "source": [
        "def multiply_basic(poly1, poly2):\n",
        "    "
      ]
    },
    {
      "cell_type": "code",
      "source": [
        "def multiply_basic(poly1, poly2):\n",
        "    m = len(poly1)\n",
        "    n = len(poly2)\n",
        "    \n",
        "    if m>0 and n>0:\n",
        "      result = [0]*(m + n - 1) \n",
        "      for i in range(m):\n",
        "        for j in range(n):\n",
        "          result[i+j] += poly1[i] * poly2[j]           \n",
        "    \n",
        "    elif m==0 or n==0:\n",
        "        result = [] \n",
        "    \n",
        "    elif n==0:\n",
        "        result = []\n",
        "    \n",
        "    return result"
      ],
      "metadata": {
        "id": "xtjFj8qb5BkH"
      },
      "id": "xtjFj8qb5BkH",
      "execution_count": 43,
      "outputs": []
    },
    {
      "cell_type": "code",
      "source": [
        "def multiply_basic(poly1, poly2):\n",
        "    n,m = len(poly1), len(poly2)\n",
        "    if n == 0:\n",
        "        return poly2\n",
        "    if m == 0:\n",
        "        return poly1\n",
        "    \n",
        "    result = [0] * (n + m -1)\n",
        "    for i in range(n):\n",
        "        for j in range(m):\n",
        "            result[i+j] += poly1[i] * poly2[j]\n",
        "    \n",
        "#     all_0 = all(x == 0 for x in result)\n",
        "#     if all_0:\n",
        "#         return [0]\n",
        "#     else: \n",
        "    return result"
      ],
      "metadata": {
        "id": "0n1O0HQM46i-"
      },
      "id": "0n1O0HQM46i-",
      "execution_count": 42,
      "outputs": []
    },
    {
      "cell_type": "markdown",
      "id": "bdc32a4a",
      "metadata": {
        "id": "bdc32a4a"
      },
      "source": [
        "Test your solution using the test cases you've defined above."
      ]
    },
    {
      "cell_type": "code",
      "execution_count": 44,
      "id": "3537bfff",
      "metadata": {
        "id": "3537bfff"
      },
      "outputs": [],
      "source": [
        "from jovian.pythondsa import evaluate_test_cases"
      ]
    },
    {
      "cell_type": "code",
      "execution_count": 45,
      "id": "50db1f4e",
      "metadata": {
        "id": "50db1f4e",
        "colab": {
          "base_uri": "https://localhost:8080/"
        },
        "outputId": "d00064c3-bf9a-44a2-bfb7-0329b1d33246"
      },
      "outputs": [
        {
          "output_type": "stream",
          "name": "stdout",
          "text": [
            "\n",
            "\u001b[1mTEST CASE #0\u001b[0m\n",
            "\n",
            "Input:\n",
            "{'poly1': [2, 0, 5, 7], 'poly2': [3, 4, 2]}\n",
            "\n",
            "Expected Output:\n",
            "[6, 8, 19, 41, 38, 14]\n",
            "\n",
            "\n",
            "Actual Output:\n",
            "[6, 8, 19, 41, 38, 14]\n",
            "\n",
            "Execution Time:\n",
            "0.015 ms\n",
            "\n",
            "Test Result:\n",
            "\u001b[92mPASSED\u001b[0m\n",
            "\n",
            "\n",
            "\u001b[1mTEST CASE #1\u001b[0m\n",
            "\n",
            "Input:\n",
            "{'poly1': [2, 4, 0, 0, 5], 'poly2': [4, 9, 5, 4]}\n",
            "\n",
            "Expected Output:\n",
            "[8, 34, 46, 28, 36, 45, 25, 20]\n",
            "\n",
            "\n",
            "Actual Output:\n",
            "[8, 34, 46, 28, 36, 45, 25, 20]\n",
            "\n",
            "Execution Time:\n",
            "0.015 ms\n",
            "\n",
            "Test Result:\n",
            "\u001b[92mPASSED\u001b[0m\n",
            "\n",
            "\n",
            "\u001b[1mTEST CASE #2\u001b[0m\n",
            "\n",
            "Input:\n",
            "{'poly1': [2, 4], 'poly2': [2, 7, 5]}\n",
            "\n",
            "Expected Output:\n",
            "[4, 22, 38, 20]\n",
            "\n",
            "\n",
            "Actual Output:\n",
            "[4, 22, 38, 20]\n",
            "\n",
            "Execution Time:\n",
            "0.009 ms\n",
            "\n",
            "Test Result:\n",
            "\u001b[92mPASSED\u001b[0m\n",
            "\n",
            "\n",
            "\u001b[1mTEST CASE #3\u001b[0m\n",
            "\n",
            "Input:\n",
            "{'poly1': [1, 1, 1], 'poly2': [2, 7, 5]}\n",
            "\n",
            "Expected Output:\n",
            "[2, 9, 14, 12, 5]\n",
            "\n",
            "\n",
            "Actual Output:\n",
            "[2, 9, 14, 12, 5]\n",
            "\n",
            "Execution Time:\n",
            "0.01 ms\n",
            "\n",
            "Test Result:\n",
            "\u001b[92mPASSED\u001b[0m\n",
            "\n",
            "\n",
            "\u001b[1mTEST CASE #4\u001b[0m\n",
            "\n",
            "Input:\n",
            "{'poly1': [], 'poly2': [2, 7, 4]}\n",
            "\n",
            "Expected Output:\n",
            "[]\n",
            "\n",
            "\n",
            "Actual Output:\n",
            "[]\n",
            "\n",
            "Execution Time:\n",
            "0.003 ms\n",
            "\n",
            "Test Result:\n",
            "\u001b[92mPASSED\u001b[0m\n",
            "\n",
            "\n",
            "\u001b[1mTEST CASE #5\u001b[0m\n",
            "\n",
            "Input:\n",
            "{'poly1': [0, 1], 'poly2': [2, 6, -5, 3, 4]}\n",
            "\n",
            "Expected Output:\n",
            "[0, 2, 6, -5, 3, 4]\n",
            "\n",
            "\n",
            "Actual Output:\n",
            "[0, 2, 6, -5, 3, 4]\n",
            "\n",
            "Execution Time:\n",
            "0.011 ms\n",
            "\n",
            "Test Result:\n",
            "\u001b[92mPASSED\u001b[0m\n",
            "\n",
            "\n",
            "\u001b[1mSUMMARY\u001b[0m\n",
            "\n",
            "TOTAL: 6, \u001b[92mPASSED\u001b[0m: 6, \u001b[91mFAILED\u001b[0m: 0\n"
          ]
        }
      ],
      "source": [
        "results = evaluate_test_cases(multiply_basic, tests)"
      ]
    },
    {
      "cell_type": "code",
      "execution_count": 46,
      "id": "9248ad5b",
      "metadata": {
        "id": "9248ad5b"
      },
      "outputs": [],
      "source": [
        "import jovian"
      ]
    },
    {
      "cell_type": "code",
      "execution_count": 47,
      "id": "736c510f",
      "metadata": {
        "id": "736c510f",
        "outputId": "5898b448-898c-4af3-fc35-1ea1f03609aa",
        "colab": {
          "base_uri": "https://localhost:8080/",
          "height": 89
        }
      },
      "outputs": [
        {
          "output_type": "stream",
          "name": "stdout",
          "text": [
            "[jovian] Detected Colab notebook...\u001b[0m\n",
            "[jovian] Uploading colab notebook to Jovian...\u001b[0m\n",
            "Committed successfully! https://jovian.ai/nikhil-lokhande/python-divide-and-conquer-assignment\n"
          ]
        },
        {
          "output_type": "execute_result",
          "data": {
            "application/vnd.google.colaboratory.intrinsic+json": {
              "type": "string"
            },
            "text/plain": [
              "'https://jovian.ai/nikhil-lokhande/python-divide-and-conquer-assignment'"
            ]
          },
          "metadata": {},
          "execution_count": 47
        }
      ],
      "source": [
        "jovian.commit()"
      ]
    },
    {
      "cell_type": "markdown",
      "id": "ff8d3f4e",
      "metadata": {
        "id": "ff8d3f4e"
      },
      "source": [
        "### 5. Analyze the algorithm's complexity and identify inefficiencies, if any.\n",
        "\n",
        "Can you analyze the time and space complexity of this algorithm?"
      ]
    },
    {
      "cell_type": "code",
      "execution_count": 48,
      "id": "71e295a2",
      "metadata": {
        "id": "71e295a2"
      },
      "outputs": [],
      "source": [
        "multiply_basic_time_complexity = 'O(n^2)'"
      ]
    },
    {
      "cell_type": "code",
      "execution_count": 50,
      "id": "e3f779a0",
      "metadata": {
        "id": "e3f779a0"
      },
      "outputs": [],
      "source": [
        "multiply_basic_space_complexity = 'O(M*N)'"
      ]
    },
    {
      "cell_type": "code",
      "execution_count": 24,
      "id": "038313c2",
      "metadata": {
        "id": "038313c2"
      },
      "outputs": [],
      "source": [
        "multiply_basic_time_complexity = 'O(n^2)' # Time complexity is m+n-1, as we are calculating items for each result index"
      ]
    },
    {
      "cell_type": "code",
      "source": [
        "multiply_basic_time_complexity = 'O(N.M)' # where N and M are the sizes of two lists representing polynomials."
      ],
      "metadata": {
        "id": "jPEzUSLM5d6M"
      },
      "id": "jPEzUSLM5d6M",
      "execution_count": null,
      "outputs": []
    },
    {
      "cell_type": "code",
      "source": [
        "multiply_basic_space_complexity = 'O(N+M)'"
      ],
      "metadata": {
        "id": "KduJ9_k05d8l"
      },
      "id": "KduJ9_k05d8l",
      "execution_count": null,
      "outputs": []
    },
    {
      "cell_type": "code",
      "source": [
        "multiply_basic_space_complexity = 'O(N*N)' \n",
        "# For calculating the result[i], we are storing all multiplication results, til we find i+j=k. Hence s m*n!"
      ],
      "metadata": {
        "id": "Ao1IXLm95jrc"
      },
      "id": "Ao1IXLm95jrc",
      "execution_count": null,
      "outputs": []
    },
    {
      "cell_type": "code",
      "execution_count": 51,
      "id": "a3b618f3",
      "metadata": {
        "id": "a3b618f3"
      },
      "outputs": [],
      "source": [
        "import jovian"
      ]
    },
    {
      "cell_type": "code",
      "execution_count": 52,
      "id": "e2d432cf",
      "metadata": {
        "id": "e2d432cf",
        "outputId": "4f93e973-7eaf-4634-fb56-b33f2d0829a3",
        "colab": {
          "base_uri": "https://localhost:8080/",
          "height": 89
        }
      },
      "outputs": [
        {
          "output_type": "stream",
          "name": "stdout",
          "text": [
            "[jovian] Detected Colab notebook...\u001b[0m\n",
            "[jovian] Uploading colab notebook to Jovian...\u001b[0m\n",
            "Committed successfully! https://jovian.ai/nikhil-lokhande/python-divide-and-conquer-assignment\n"
          ]
        },
        {
          "output_type": "execute_result",
          "data": {
            "application/vnd.google.colaboratory.intrinsic+json": {
              "type": "string"
            },
            "text/plain": [
              "'https://jovian.ai/nikhil-lokhande/python-divide-and-conquer-assignment'"
            ]
          },
          "metadata": {},
          "execution_count": 52
        }
      ],
      "source": [
        "jovian.commit()"
      ]
    },
    {
      "cell_type": "markdown",
      "id": "80cf9c2b",
      "metadata": {
        "id": "80cf9c2b"
      },
      "source": [
        "### 6. Apply the right technique to overcome the inefficiency. Repeat steps 3 to 6.\n",
        "\n",
        "We can apply the divide and conquer technique to solve this problem more efficiently. Given two polynomials `A` and `B`, we can express each of them as a sum of two polynomials as follows:\n",
        "\n",
        "<img src=\"https://i.imgur.com/FjKQF5h.png\" width=\"480\">\n",
        "\n",
        "We need to compute the terms `A0 * B0`, `A1 * B0 + A0 * B1` and `A1 * B1`. This can obviously be done using 4 multiplications, but here's a way of doing it with just three multiplications:\n",
        "\n",
        "<img src=\"https://i.imgur.com/G3vD1GX.png\" width=\"480\">\n",
        "\n",
        "\n",
        "Each of the products can themselves be computed recursively. For a more detailed explanation of this approach see http://www.cse.ust.hk/~dekai/271/notes/L03/L03.pdf .\n",
        "\n",
        "\n",
        "Need help? Discuss and ask questions on the forum: https://jovian.ai/forum/c/data-structures-and-algorithms-in-python/assignment-3/89\n"
      ]
    },
    {
      "cell_type": "markdown",
      "id": "078c47d1",
      "metadata": {
        "id": "078c47d1"
      },
      "source": [
        "### 7. Come up with a correct solution for the problem. State it in plain English.\n",
        "\n",
        "Explain the approach described above in your own words below:\n",
        "\n",
        "1. Divide the polynomials A & B in smaller polynomials Such as $A(x)$ as $A0(x)$ and $A1(x)$(say half)\n",
        "2. The original problem of size `n` is divided into 4 problems of input size `n/2`.\n",
        "3. Solve the four subproblems, by recursively calling the algorithm 4 times.\n",
        "\n",
        "(add more steps if required)\n",
        "\n",
        "\n",
        "\n",
        "Let's save and upload our work before continuing."
      ]
    },
    {
      "cell_type": "code",
      "execution_count": 53,
      "id": "c9babc6c",
      "metadata": {
        "id": "c9babc6c"
      },
      "outputs": [],
      "source": [
        "import jovian"
      ]
    },
    {
      "cell_type": "code",
      "execution_count": 54,
      "id": "2ce1512a",
      "metadata": {
        "id": "2ce1512a",
        "outputId": "b07d2fc4-c0c9-45b3-9e17-2b495c83ab5d",
        "colab": {
          "base_uri": "https://localhost:8080/",
          "height": 89
        }
      },
      "outputs": [
        {
          "output_type": "stream",
          "name": "stdout",
          "text": [
            "[jovian] Detected Colab notebook...\u001b[0m\n",
            "[jovian] Uploading colab notebook to Jovian...\u001b[0m\n",
            "Committed successfully! https://jovian.ai/nikhil-lokhande/python-divide-and-conquer-assignment\n"
          ]
        },
        {
          "output_type": "execute_result",
          "data": {
            "application/vnd.google.colaboratory.intrinsic+json": {
              "type": "string"
            },
            "text/plain": [
              "'https://jovian.ai/nikhil-lokhande/python-divide-and-conquer-assignment'"
            ]
          },
          "metadata": {},
          "execution_count": 54
        }
      ],
      "source": [
        "jovian.commit()"
      ]
    },
    {
      "cell_type": "markdown",
      "id": "2baf6934",
      "metadata": {
        "id": "2baf6934"
      },
      "source": [
        "### 8. Implement the solution and test it using example inputs. Fix bugs, if any.\n",
        "\n",
        "We are now ready to implement the solution. You may find the following functions `add`, `split` and `increase_exponent` useful.\n"
      ]
    },
    {
      "cell_type": "code",
      "execution_count": 55,
      "id": "887cb5f5",
      "metadata": {
        "id": "887cb5f5"
      },
      "outputs": [],
      "source": [
        "def add(poly1, poly2):\n",
        "    \"\"\"Add two polynomials\"\"\"\n",
        "    result = [0] * max(len(poly1), len(poly2))\n",
        "    for i in range(len(result)):\n",
        "        if i < len(poly1):\n",
        "            result[i] += poly1[i]\n",
        "        if i < len(poly2):\n",
        "            result[i] += poly2[i]\n",
        "    return result"
      ]
    },
    {
      "cell_type": "code",
      "execution_count": 30,
      "id": "4b2f9e0c",
      "metadata": {
        "id": "4b2f9e0c",
        "outputId": "f74b1997-30aa-4cfc-8403-025ac2c81b42",
        "colab": {
          "base_uri": "https://localhost:8080/"
        }
      },
      "outputs": [
        {
          "output_type": "execute_result",
          "data": {
            "text/plain": [
              "[1, 6, 6, 4]"
            ]
          },
          "metadata": {},
          "execution_count": 30
        }
      ],
      "source": [
        "add([1, 2, 3, 4], [0, 4, 3])"
      ]
    },
    {
      "cell_type": "code",
      "execution_count": 56,
      "id": "1ab35ece",
      "metadata": {
        "id": "1ab35ece"
      },
      "outputs": [],
      "source": [
        "def split(poly1, poly2):\n",
        "    \"\"\"Split each polynomial into two smaller polynomials\"\"\"\n",
        "    mid = max(len(poly1), len(poly2)) // 2\n",
        "    return  (poly1[:mid], poly1[mid:]), (poly2[:mid], poly2[mid:])"
      ]
    },
    {
      "cell_type": "code",
      "execution_count": 32,
      "id": "37a4c6f9",
      "metadata": {
        "id": "37a4c6f9",
        "outputId": "2d23a988-afc8-4595-cb9f-851e90a041f7",
        "colab": {
          "base_uri": "https://localhost:8080/"
        }
      },
      "outputs": [
        {
          "output_type": "execute_result",
          "data": {
            "text/plain": [
              "(([1, 2, 3], [4]), ([0, 4, 3], [6, 7, 8, 2]))"
            ]
          },
          "metadata": {},
          "execution_count": 32
        }
      ],
      "source": [
        "split([1, 2, 3, 4], [0, 4, 3, 6, 7, 8, 2])"
      ]
    },
    {
      "cell_type": "code",
      "execution_count": 57,
      "id": "3f473b80",
      "metadata": {
        "id": "3f473b80"
      },
      "outputs": [],
      "source": [
        "def increase_exponent(poly, n):\n",
        "    \"\"\"Multiply poly1 by x^n\"\"\"\n",
        "    return [0] * n + poly"
      ]
    },
    {
      "cell_type": "code",
      "execution_count": 58,
      "id": "c3131949",
      "metadata": {
        "id": "c3131949",
        "outputId": "168008bd-84a2-45ad-e48f-a36e10661008",
        "colab": {
          "base_uri": "https://localhost:8080/"
        }
      },
      "outputs": [
        {
          "output_type": "execute_result",
          "data": {
            "text/plain": [
              "[0, 0, 0, 1, 2, 3, 4]"
            ]
          },
          "metadata": {},
          "execution_count": 58
        }
      ],
      "source": [
        "increase_exponent([1, 2, 3, 4], 3)"
      ]
    },
    {
      "cell_type": "markdown",
      "id": "686ad834",
      "metadata": {
        "id": "686ad834"
      },
      "source": [
        "Implement the optimized multiplication algorithm below. You may use the some or all of the helper functions defined above."
      ]
    },
    {
      "cell_type": "code",
      "execution_count": 67,
      "id": "b66af0c8",
      "metadata": {
        "id": "b66af0c8"
      },
      "outputs": [],
      "source": [
        "def multiply_optimized(poly1, poly2):\n",
        "    pass"
      ]
    },
    {
      "cell_type": "code",
      "source": [
        "def multiply_optimized(poly1, poly2):\n",
        "    if len(poly1) == 1 :\n",
        "        product = [poly1[0]* poly2[i] for i in range(len(poly2))]\n",
        "        return product\n",
        "    elif len(poly2) == 1 :\n",
        "        product = [poly2[0]* poly1[i] for i in range(len(poly1))]\n",
        "        return product\n",
        "    else:\n",
        "        n = max(len(poly1),len(poly2))\n",
        "        poly1, poly2 = split(poly1, poly2)\n",
        "     \n",
        "        U = multiply_optimized(poly1[0],poly2[0])\n",
        "        V = multiply_optimized(poly1[0],poly2[1])\n",
        "        W = multiply_optimized(poly1[1],poly2[0])\n",
        "        Z = multiply_optimized(poly1[1],poly2[1])\n",
        "            \n",
        "        product = add(U,add(increase_exponent(add(V,W),n//2), increase_exponent(Z,2*(n//2))))\n",
        "        return product"
      ],
      "metadata": {
        "id": "oE1c3wL_7Xr_"
      },
      "id": "oE1c3wL_7Xr_",
      "execution_count": 68,
      "outputs": []
    },
    {
      "cell_type": "code",
      "execution_count": 70,
      "id": "65d450e3",
      "metadata": {
        "id": "65d450e3"
      },
      "outputs": [],
      "source": [
        "# Standardizes the polynomial (Gets rid of trailing 0s)\n",
        "\n",
        "def standardize(poly):\n",
        "\n",
        "    poly = list(poly) # make a copy\n",
        "\n",
        "    if poly[len(poly)-1] == 0: # Check if the last element in the list is 0\n",
        "\n",
        "        poly.pop() #If last element is zero, remove from the list\n",
        "\n",
        "    return poly\n",
        "\n",
        "\n",
        "\n",
        "# Finds if the polynomial is 0\n",
        "\n",
        "def isZeroPoly(poly):\n",
        "\n",
        "    if poly == []: # Check if poly is blank [] or [0]<= standardize would remove the zero and return []\n",
        "\n",
        "        return True\n",
        "\n",
        "    else:\n",
        "\n",
        "        return False\n",
        "\n",
        "\n",
        "\n",
        "# Scales the polynomial by the scale variable ((3,[1,2,3]) => [3,6,9])\n",
        "\n",
        "def scalePoly(scale,poly):\n",
        "\n",
        "    poly = list(poly)\n",
        "\n",
        "    for x in range(0,len(poly)): # For final assembly of resulting poly\n",
        "\n",
        "        poly[x] = (poly[x] * scale)\n",
        "\n",
        "    poly = standardize(poly)\n",
        "\n",
        "    return poly\n",
        "\n",
        "# Gives the constant in the polynomial ([2,3,4] => [2])\n",
        "\n",
        "def constCoef(poly):\n",
        "\n",
        "    constant = poly[0]\n",
        "\n",
        "    return constant\n",
        "\n",
        "# Shifts the polynomial left ([2,3,4] => [0,2,3,4])\n",
        "\n",
        "def shiftLeft(poly):\n",
        "\n",
        "    newpoly = []\n",
        "\n",
        "    newpoly.append(0)\n",
        "\n",
        "    for x in range(0,len(poly)): # Increase exponent\n",
        "\n",
        "        newpoly.append(poly[x])\n",
        "\n",
        "    return newpoly\n",
        "\n",
        "# Shifts the polynomial right ([2,3,4] => [3,4])\n",
        "\n",
        "def shiftRight(poly):\n",
        "\n",
        "    #poly.remove(poly[0])\n",
        "\n",
        "    return poly[1:]\n",
        "\n",
        "def multiply_optimized(poly1, poly2):\n",
        "\n",
        "    # print (poly1, poly2)\n",
        "\n",
        "    if isZeroPoly(poly1):\n",
        "\n",
        "        return []\n",
        "\n",
        "    else:\n",
        "\n",
        "        return add(\n",
        "\n",
        "            multiply_optimized(shiftRight(poly1), shiftLeft(poly2)),\n",
        "\n",
        "            scalePoly(constCoef(poly1), poly2)\n",
        "\n",
        "        )\n",
        "\n",
        "        "
      ]
    },
    {
      "cell_type": "markdown",
      "id": "609f8795",
      "metadata": {
        "id": "609f8795"
      },
      "source": [
        "Test your solution using the empty cells below."
      ]
    },
    {
      "cell_type": "code",
      "execution_count": 71,
      "id": "2956b576",
      "metadata": {
        "id": "2956b576",
        "colab": {
          "base_uri": "https://localhost:8080/"
        },
        "outputId": "18dbdff3-48f2-4ac2-b465-b807eb306a81"
      },
      "outputs": [
        {
          "output_type": "stream",
          "name": "stdout",
          "text": [
            "\n",
            "\u001b[1mTEST CASE #0\u001b[0m\n",
            "\n",
            "Input:\n",
            "{'poly1': [2, 0, 5, 7], 'poly2': [3, 4, 2]}\n",
            "\n",
            "Expected Output:\n",
            "[6, 8, 19, 41, 38, 14]\n",
            "\n",
            "\n",
            "Actual Output:\n",
            "[6, 8, 19, 41, 38, 14]\n",
            "\n",
            "Execution Time:\n",
            "0.063 ms\n",
            "\n",
            "Test Result:\n",
            "\u001b[92mPASSED\u001b[0m\n",
            "\n",
            "\n",
            "\u001b[1mTEST CASE #1\u001b[0m\n",
            "\n",
            "Input:\n",
            "{'poly1': [2, 4, 0, 0, 5], 'poly2': [4, 9, 5, 4]}\n",
            "\n",
            "Expected Output:\n",
            "[8, 34, 46, 28, 36, 45, 25, 20]\n",
            "\n",
            "\n",
            "Actual Output:\n",
            "[8, 34, 46, 28, 36, 45, 25, 20]\n",
            "\n",
            "Execution Time:\n",
            "0.102 ms\n",
            "\n",
            "Test Result:\n",
            "\u001b[92mPASSED\u001b[0m\n",
            "\n",
            "\n",
            "\u001b[1mTEST CASE #2\u001b[0m\n",
            "\n",
            "Input:\n",
            "{'poly1': [2, 4], 'poly2': [2, 7, 5]}\n",
            "\n",
            "Expected Output:\n",
            "[4, 22, 38, 20]\n",
            "\n",
            "\n",
            "Actual Output:\n",
            "[4, 22, 38, 20]\n",
            "\n",
            "Execution Time:\n",
            "0.033 ms\n",
            "\n",
            "Test Result:\n",
            "\u001b[92mPASSED\u001b[0m\n",
            "\n",
            "\n",
            "\u001b[1mTEST CASE #3\u001b[0m\n",
            "\n",
            "Input:\n",
            "{'poly1': [1, 1, 1], 'poly2': [2, 7, 5]}\n",
            "\n",
            "Expected Output:\n",
            "[2, 9, 14, 12, 5]\n",
            "\n",
            "\n",
            "Actual Output:\n",
            "[2, 9, 14, 12, 5]\n",
            "\n",
            "Execution Time:\n",
            "0.048 ms\n",
            "\n",
            "Test Result:\n",
            "\u001b[92mPASSED\u001b[0m\n",
            "\n",
            "\n",
            "\u001b[1mTEST CASE #4\u001b[0m\n",
            "\n",
            "Input:\n",
            "{'poly1': [], 'poly2': [2, 7, 4]}\n",
            "\n",
            "Expected Output:\n",
            "[]\n",
            "\n",
            "\n",
            "Actual Output:\n",
            "[]\n",
            "\n",
            "Execution Time:\n",
            "0.004 ms\n",
            "\n",
            "Test Result:\n",
            "\u001b[92mPASSED\u001b[0m\n",
            "\n",
            "\n",
            "\u001b[1mTEST CASE #5\u001b[0m\n",
            "\n",
            "Input:\n",
            "{'poly1': [0, 1], 'poly2': [2, 6, -5, 3, 4]}\n",
            "\n",
            "Expected Output:\n",
            "[0, 2, 6, -5, 3, 4]\n",
            "\n",
            "\n",
            "Actual Output:\n",
            "[0, 2, 6, -5, 3, 4]\n",
            "\n",
            "Execution Time:\n",
            "0.035 ms\n",
            "\n",
            "Test Result:\n",
            "\u001b[92mPASSED\u001b[0m\n",
            "\n",
            "\n",
            "\u001b[1mSUMMARY\u001b[0m\n",
            "\n",
            "TOTAL: 6, \u001b[92mPASSED\u001b[0m: 6, \u001b[91mFAILED\u001b[0m: 0\n"
          ]
        }
      ],
      "source": [
        "results = evaluate_test_cases(multiply_optimized, tests)"
      ]
    },
    {
      "cell_type": "code",
      "execution_count": 62,
      "id": "8f14d39a",
      "metadata": {
        "id": "8f14d39a"
      },
      "outputs": [],
      "source": [
        "import jovian"
      ]
    },
    {
      "cell_type": "code",
      "execution_count": 63,
      "id": "e671dbd8",
      "metadata": {
        "id": "e671dbd8",
        "outputId": "96ca746a-720f-409d-ba04-e00238d3cafe",
        "colab": {
          "base_uri": "https://localhost:8080/",
          "height": 89
        }
      },
      "outputs": [
        {
          "output_type": "stream",
          "name": "stdout",
          "text": [
            "[jovian] Detected Colab notebook...\u001b[0m\n",
            "[jovian] Uploading colab notebook to Jovian...\u001b[0m\n",
            "Committed successfully! https://jovian.ai/nikhil-lokhande/python-divide-and-conquer-assignment\n"
          ]
        },
        {
          "output_type": "execute_result",
          "data": {
            "application/vnd.google.colaboratory.intrinsic+json": {
              "type": "string"
            },
            "text/plain": [
              "'https://jovian.ai/nikhil-lokhande/python-divide-and-conquer-assignment'"
            ]
          },
          "metadata": {},
          "execution_count": 63
        }
      ],
      "source": [
        "jovian.commit()"
      ]
    },
    {
      "cell_type": "markdown",
      "id": "3f277a80",
      "metadata": {
        "id": "3f277a80"
      },
      "source": [
        "## Make a Submission\n",
        "\n",
        "Congrats! You have now implemented hash tables from scratch. The rest of this assignment is optional.\n",
        "\n",
        "You can make a submission on this page: https://jovian.ai/learn/data-structures-and-algorithms-in-python/assignment/assignment-3-sorting-and-divide-conquer-practice\n",
        "\n",
        "Submit the link to your Jovian notebook (the output of the previous cell).\n",
        "You can also make a direct submission by executing the following cell:"
      ]
    },
    {
      "cell_type": "code",
      "execution_count": 38,
      "id": "19da3c64",
      "metadata": {
        "id": "19da3c64",
        "outputId": "6b545c77-80ae-4040-f876-80ad70380a26",
        "colab": {
          "base_uri": "https://localhost:8080/"
        }
      },
      "outputs": [
        {
          "output_type": "stream",
          "name": "stdout",
          "text": [
            "[jovian] Detected Colab notebook...\u001b[0m\n",
            "[jovian] Uploading colab notebook to Jovian...\u001b[0m\n",
            "Committed successfully! https://jovian.ai/nikhil-lokhande/python-divide-and-conquer-assignment\n",
            "[jovian] Submitting assignment..\u001b[0m\n",
            "[jovian] Verify your submission at https://jovian.ai/learn/data-structures-and-algorithms-in-python/assignment/assignment-3-sorting-and-divide-conquer-practice\u001b[0m\n"
          ]
        }
      ],
      "source": [
        "jovian.submit(assignment=\"pythondsa-assignment3\")"
      ]
    },
    {
      "cell_type": "markdown",
      "id": "b4db9d2a",
      "metadata": {
        "id": "b4db9d2a"
      },
      "source": [
        "### (Optional) 9. Analyze the algorithm's complexity and identify inefficiencies, if any.\n",
        "\n",
        "Can you analyze the time and space complexity of this algorithm? \n",
        "\n",
        "Hint: See the tree of subproblems below ([source](https://myithelpcentral.blogspot.com/2015/09/o-logn-notation-explanation-for-binary.html)). Substitute the right values for `n` and `b` to determine the time complexity.\n",
        "\n",
        "![](https://i.imgur.com/JAmZrE5.png)"
      ]
    },
    {
      "cell_type": "code",
      "execution_count": 64,
      "id": "221f8514",
      "metadata": {
        "id": "221f8514"
      },
      "outputs": [],
      "source": [
        "import jovian"
      ]
    },
    {
      "cell_type": "code",
      "execution_count": 65,
      "id": "90aa8164",
      "metadata": {
        "id": "90aa8164",
        "outputId": "c6d4c62a-7a2f-47e4-eeb6-cd6d33c3c8f3",
        "colab": {
          "base_uri": "https://localhost:8080/",
          "height": 89
        }
      },
      "outputs": [
        {
          "output_type": "stream",
          "name": "stdout",
          "text": [
            "[jovian] Detected Colab notebook...\u001b[0m\n",
            "[jovian] Uploading colab notebook to Jovian...\u001b[0m\n",
            "Committed successfully! https://jovian.ai/nikhil-lokhande/python-divide-and-conquer-assignment\n"
          ]
        },
        {
          "output_type": "execute_result",
          "data": {
            "application/vnd.google.colaboratory.intrinsic+json": {
              "type": "string"
            },
            "text/plain": [
              "'https://jovian.ai/nikhil-lokhande/python-divide-and-conquer-assignment'"
            ]
          },
          "metadata": {},
          "execution_count": 65
        }
      ],
      "source": [
        "jovian.commit()"
      ]
    }
  ],
  "metadata": {
    "colab": {
      "name": "python-divide-and-conquer-assignment.ipynb",
      "provenance": [],
      "include_colab_link": true
    },
    "kernelspec": {
      "display_name": "Python 3",
      "language": "python",
      "name": "python3"
    },
    "language_info": {
      "codemirror_mode": {
        "name": "ipython",
        "version": 3
      },
      "file_extension": ".py",
      "mimetype": "text/x-python",
      "name": "python",
      "nbconvert_exporter": "python",
      "pygments_lexer": "ipython3",
      "version": "3.6.12"
    }
  },
  "nbformat": 4,
  "nbformat_minor": 5
}