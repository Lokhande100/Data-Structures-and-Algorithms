{
  "cells": [
    {
      "cell_type": "markdown",
      "metadata": {
        "id": "view-in-github",
        "colab_type": "text"
      },
      "source": [
        "<a href=\"https://colab.research.google.com/github/Lokhande10/Data-Structures-and-Algorithms/blob/main/Linear__Search_1.ipynb\" target=\"_parent\"><img src=\"https://colab.research.google.com/assets/colab-badge.svg\" alt=\"Open In Colab\"/></a>"
      ]
    },
    {
      "cell_type": "code",
      "execution_count": null,
      "id": "7cbef183",
      "metadata": {
        "id": "7cbef183"
      },
      "outputs": [],
      "source": [
        "# Jovian Commit Essentials\n",
        "# Please retain and execute this cell without modifying the contents for `jovian.commit` to work\n",
        "!pip install jovian --upgrade -q\n",
        "import jovian\n",
        "jovian.set_project('python-problem-solving-template')\n",
        "jovian.set_colab_id('1JlNYrINuNjxkYf5lbZ0gkGc-FUr0JhFo')"
      ]
    },
    {
      "cell_type": "markdown",
      "id": "e676f1d9",
      "metadata": {
        "id": "e676f1d9"
      },
      "source": [
        "#Linear Search Algo\n",
        "\n",
        "_To learn how to use this template, check out the course [\"Data Structures and Algorithms in Python\"](https://jovian.ai/learn/data-structures-and-algorithms-in-python)._\n",
        "\n",
        "\n"
      ]
    },
    {
      "cell_type": "markdown",
      "id": "3ddce968",
      "metadata": {
        "id": "3ddce968"
      },
      "source": [
        "## How to run the code and save your work\n",
        "\n",
        "The recommended way to run this notebook is to click the \"Run\" button at the top of this page, and select \"Run on Binder\". This will run the notebook on [mybinder.org](https://mybinder.org), a free online service for running Jupyter notebooks. \n",
        "\n",
        "This tutorial is an executable [Jupyter notebook](https://jupyter.org). You can _run_ this tutorial and experiment with the code examples in a couple of ways: *using free online resources* (recommended) or *on your computer*.\n",
        "\n",
        "#### Option 1: Running using free online resources (1-click, recommended)\n",
        "\n",
        "The easiest way to start executing the code is to click the **Run** button at the top of this page and select **Run on Binder**. You can also select \"Run on Colab\" or \"Run on Kaggle\", but you'll need to create an account on [Google Colab](https://colab.research.google.com) or [Kaggle](https://kaggle.com) to use these platforms.\n",
        "\n",
        "\n",
        "#### Option 2: Running on your computer locally\n",
        "\n",
        "To run the code on your computer locally, you'll need to set up [Python](https://www.python.org), download the notebook and install the required libraries. We recommend using the [Conda](https://docs.conda.io/projects/conda/en/latest/user-guide/install/) distribution of Python. Click the **Run** button at the top of this page, select the **Run Locally** option, and follow the instructions.\n",
        "\n",
        "#### Saving your work\n",
        "\n",
        "Before staring the assignment, let's save a snapshot of the assignment to your [Jovian](https://jovian.ai) profile, so that you can access it later, and continue your work."
      ]
    },
    {
      "cell_type": "code",
      "execution_count": null,
      "id": "9492d02e",
      "metadata": {
        "id": "9492d02e"
      },
      "outputs": [],
      "source": [
        "project_name = 'Linear_Search_algorithm'"
      ]
    },
    {
      "cell_type": "code",
      "execution_count": null,
      "id": "c87ff6b8",
      "metadata": {
        "id": "c87ff6b8"
      },
      "outputs": [],
      "source": [
        "!pip install jovian --upgrade --quiet"
      ]
    },
    {
      "cell_type": "code",
      "execution_count": null,
      "id": "881f1761",
      "metadata": {
        "id": "881f1761"
      },
      "outputs": [],
      "source": [
        "import jovian"
      ]
    },
    {
      "cell_type": "code",
      "execution_count": null,
      "id": "7ba37f40",
      "metadata": {
        "colab": {
          "base_uri": "https://localhost:8080/",
          "height": 89
        },
        "id": "7ba37f40",
        "outputId": "41b19a03-14b7-4696-8312-d6968bdea378"
      },
      "outputs": [
        {
          "output_type": "stream",
          "name": "stdout",
          "text": [
            "[jovian] Detected Colab notebook...\u001b[0m\n",
            "[jovian] Uploading colab notebook to Jovian...\u001b[0m\n",
            "Committed successfully! https://jovian.ai/nikhil-lokhande/linear-search-algorithm\n"
          ]
        },
        {
          "output_type": "execute_result",
          "data": {
            "application/vnd.google.colaboratory.intrinsic+json": {
              "type": "string"
            },
            "text/plain": [
              "'https://jovian.ai/nikhil-lokhande/linear-search-algorithm'"
            ]
          },
          "metadata": {},
          "execution_count": 76
        }
      ],
      "source": [
        "jovian.commit(project=project_name)"
      ]
    },
    {
      "cell_type": "markdown",
      "id": "bd67ff6e",
      "metadata": {
        "id": "bd67ff6e"
      },
      "source": [
        "## Problem Statement\n",
        "\n",
        "\n",
        "> ## Problem \n",
        "\n",
        "\n",
        "> **QUESTION 1:** Alice has some cards with numbers written on them. She arranges the cards in decreasing order, and lays them out face down in a sequence on a table. She challenges Bob to pick out the card containing a given number by turning over as few cards as possible. Write a function to help Bob locate the card.\n",
        "\n",
        "<img src=\"https://i.imgur.com/mazym6s.png\" width=\"480\">\n",
        "\n",
        "This may seem like a simple problem, especially if you're familiar with the concept of _binary search_, but the strategy and technique we learning here will be widely applicable, and we'll soon use it to solve harder problems.\n",
        "\n",
        "\n",
        "Source: ??? (link to the source)"
      ]
    },
    {
      "cell_type": "markdown",
      "id": "37960ebc",
      "metadata": {
        "id": "37960ebc"
      },
      "source": [
        "## The Method\n",
        "\n",
        "Here's the systematic strategy we'll apply for solving problems:\n",
        "\n",
        "1. State the problem clearly. Identify the input & output formats.\n",
        "2. Come up with some example inputs & outputs. Try to cover all edge cases.\n",
        "3. Come up with a correct solution for the problem. State it in plain English.\n",
        "4. Implement the solution and test it using example inputs. Fix bugs, if any.\n",
        "5. Analyze the algorithm's complexity and identify inefficiencies, if any.\n",
        "6. Apply the right technique to overcome the inefficiency. Repeat steps 3 to 6.\n",
        "\n",
        "This approach is explained in detail in [Lesson 1](https://jovian.ai/learn/data-structures-and-algorithms-in-python/lesson/lesson-1-binary-search-linked-lists-and-complexity) of the course. Let's apply this approach step-by-step."
      ]
    },
    {
      "cell_type": "markdown",
      "id": "b995ae54",
      "metadata": {
        "id": "b995ae54"
      },
      "source": [
        "## Solution\n",
        "\n",
        "\n",
        "### 1. State the problem clearly. Identify the input & output formats.\n",
        "\n",
        "While this problem is stated clearly enough, it's always useful to try and express in your own words, in a way that makes it most clear for you. \n",
        "\n",
        "\n",
        "**Problem**\n",
        " We need to write a program to find the position of a given number in a list of numbers arranged in decreasing order. We also need to minimize the number of times we access elements from the list.\n",
        "\n",
        "\n",
        "<br/>\n",
        "\n",
        "\n",
        "**Input**\n",
        "\n",
        "1. `cards`: A list of numbers sorted in decreasing order. E.g. `[8,7,6,5,4,3,2,1]`\n",
        "2. `query`: A number, whose position in the array is to be determined. E.g. `7`\n",
        "\n",
        "\n",
        "\n",
        "**Output**\n",
        "\n",
        "3. `position`: The position of `query` in the list `cards`. E.g. `1` in the above case (counting from `0`)\n",
        "\n",
        "<br/>\n",
        "\n",
        "Based on the above, we can now create a signature of our function:"
      ]
    },
    {
      "cell_type": "code",
      "execution_count": null,
      "id": "9b7d500f",
      "metadata": {
        "id": "9b7d500f"
      },
      "outputs": [],
      "source": [
        "# Create a function signature here. The body of the function can contain a single statement: pass"
      ]
    },
    {
      "cell_type": "code",
      "source": [
        "def locate_card(cards, query):\n",
        "    pass"
      ],
      "metadata": {
        "id": "Bv3eb8TjH70W"
      },
      "id": "Bv3eb8TjH70W",
      "execution_count": null,
      "outputs": []
    },
    {
      "cell_type": "markdown",
      "id": "8d6b467b",
      "metadata": {
        "id": "8d6b467b"
      },
      "source": [
        "Save and upload your work before continuing."
      ]
    },
    {
      "cell_type": "code",
      "execution_count": null,
      "id": "ddc8bd78",
      "metadata": {
        "id": "ddc8bd78"
      },
      "outputs": [],
      "source": [
        "import jovian"
      ]
    },
    {
      "cell_type": "code",
      "execution_count": null,
      "id": "bbe5a6af",
      "metadata": {
        "colab": {
          "base_uri": "https://localhost:8080/",
          "height": 89
        },
        "id": "bbe5a6af",
        "outputId": "b927766a-0eb5-479b-d353-bae22540b145"
      },
      "outputs": [
        {
          "output_type": "stream",
          "name": "stdout",
          "text": [
            "[jovian] Detected Colab notebook...\u001b[0m\n",
            "[jovian] Uploading colab notebook to Jovian...\u001b[0m\n",
            "Committed successfully! https://jovian.ai/nikhil-lokhande/linear-search-algorithm\n"
          ]
        },
        {
          "output_type": "execute_result",
          "data": {
            "application/vnd.google.colaboratory.intrinsic+json": {
              "type": "string"
            },
            "text/plain": [
              "'https://jovian.ai/nikhil-lokhande/linear-search-algorithm'"
            ]
          },
          "metadata": {},
          "execution_count": 79
        }
      ],
      "source": [
        "jovian.commit()"
      ]
    },
    {
      "cell_type": "markdown",
      "id": "98212ff9",
      "metadata": {
        "id": "98212ff9"
      },
      "source": [
        "### 2. Come up with some example inputs & outputs. Try to cover all edge cases.\n",
        "\n",
        "Our function should be able to handle any set of valid inputs we pass into it. Here's a list of some possible variations we might encounter:\n",
        "\n",
        "cards = [8,7,6,5,4,3,2,1]\n",
        "query = 5\n",
        "output = 3\n",
        "\n",
        "(add more if required)\n",
        "\n",
        "\n",
        "We'll express our test cases as dictionaries, to test them easily. Each dictionary will contain 2 keys: `input` (a dictionary itself containing one key for each argument to the function and `output` (the expected result from the function). "
      ]
    },
    {
      "cell_type": "code",
      "execution_count": 139,
      "id": "35b0f415",
      "metadata": {
        "id": "35b0f415"
      },
      "outputs": [],
      "source": [
        "test = {\n",
        "    'input': { \n",
        "        'cards': [8,7,6,5,4,3,2,1], \n",
        "        'query': 7\n",
        "    },\n",
        "    'output': 1}"
      ]
    },
    {
      "cell_type": "markdown",
      "id": "d5f0ca81",
      "metadata": {
        "id": "d5f0ca81"
      },
      "source": [
        "Create one test case for each of the scenarios listed above. We'll store our test cases in an array called `tests`."
      ]
    },
    {
      "cell_type": "code",
      "execution_count": 140,
      "id": "b7664ddb",
      "metadata": {
        "id": "b7664ddb"
      },
      "outputs": [],
      "source": [
        "tests = []"
      ]
    },
    {
      "cell_type": "code",
      "execution_count": 141,
      "id": "f4c18302",
      "metadata": {
        "id": "f4c18302"
      },
      "outputs": [],
      "source": [
        "tests.append(test)"
      ]
    },
    {
      "cell_type": "code",
      "execution_count": 142,
      "id": "c144ac70",
      "metadata": {
        "id": "c144ac70"
      },
      "outputs": [],
      "source": [
        "# query occurs in the middle\n",
        "tests.append({\n",
        "    'input': {\n",
        "        'cards': [8,7,6,5,4,3,2,1],\n",
        "        'query': 2\n",
        "    },\n",
        "    'output': 6\n",
        "})"
      ]
    },
    {
      "cell_type": "code",
      "execution_count": 143,
      "id": "326f8f3f",
      "metadata": {
        "id": "326f8f3f"
      },
      "outputs": [],
      "source": [
        "# add more test cases"
      ]
    },
    {
      "cell_type": "code",
      "execution_count": 144,
      "id": "ec47d155",
      "metadata": {
        "id": "ec47d155"
      },
      "outputs": [],
      "source": [
        "# query is the first element\n",
        "tests.append({\n",
        "    'input': {\n",
        "        'cards': [4,2,1,-1],\n",
        "        'query': 4\n",
        "    },\n",
        "    'output': 0\n",
        "})"
      ]
    },
    {
      "cell_type": "code",
      "source": [
        "# query is the last element\n",
        "tests.append({\n",
        "    'input': {\n",
        "        'cards': [3, -1, -9, -123],\n",
        "        'query': -123\n",
        "    },\n",
        "    'output': 3\n",
        "})"
      ],
      "metadata": {
        "id": "-o0Z3_zvL-X0"
      },
      "id": "-o0Z3_zvL-X0",
      "execution_count": 145,
      "outputs": []
    },
    {
      "cell_type": "code",
      "source": [
        "# cards contains just one element, query\n",
        "tests.append({\n",
        "    'input': {\n",
        "        'cards': [9],\n",
        "        'query': 9\n",
        "    },\n",
        "    'output': 0 \n",
        "})"
      ],
      "metadata": {
        "id": "tiPLw4SdMEMs"
      },
      "id": "tiPLw4SdMEMs",
      "execution_count": 146,
      "outputs": []
    },
    {
      "cell_type": "code",
      "source": [
        "# cards does not contain query \n",
        "tests.append({\n",
        "    'input': {\n",
        "        'cards': [9, 7, 5, 2, -9],\n",
        "        'query': 4\n",
        "    },\n",
        "    'output': -1\n",
        "})"
      ],
      "metadata": {
        "id": "ad4hTAGSN6kT"
      },
      "id": "ad4hTAGSN6kT",
      "execution_count": 147,
      "outputs": []
    },
    {
      "cell_type": "code",
      "source": [
        "tests"
      ],
      "metadata": {
        "colab": {
          "base_uri": "https://localhost:8080/"
        },
        "id": "z8BDqQFYNmds",
        "outputId": "9e9539c7-4cba-4022-9258-823f80f8f356"
      },
      "id": "z8BDqQFYNmds",
      "execution_count": 148,
      "outputs": [
        {
          "output_type": "execute_result",
          "data": {
            "text/plain": [
              "[{'input': {'cards': [8, 7, 6, 5, 4, 3, 2, 1], 'query': 7}, 'output': 1},\n",
              " {'input': {'cards': [8, 7, 6, 5, 4, 3, 2, 1], 'query': 2}, 'output': 6},\n",
              " {'input': {'cards': [4, 2, 1, -1], 'query': 4}, 'output': 0},\n",
              " {'input': {'cards': [3, -1, -9, -123], 'query': -123}, 'output': 3},\n",
              " {'input': {'cards': [9], 'query': 9}, 'output': 0},\n",
              " {'input': {'cards': [9, 7, 5, 2, -9], 'query': 4}, 'output': -1}]"
            ]
          },
          "metadata": {},
          "execution_count": 148
        }
      ]
    },
    {
      "cell_type": "markdown",
      "id": "53c07a01",
      "metadata": {
        "id": "53c07a01"
      },
      "source": [
        "\n",
        "### 3. Come up with a correct solution for the problem. State it in plain English.\n",
        "\n",
        "\n",
        "\n",
        "1. Create a variable `position` with the value 0.\n",
        "3. Check whether the number at index `position` in `card` equals `query`.\n",
        "4. If it does, `position` is the answer and can be returned from the function\n",
        "5. If not, increment the value of `position` by 1, and repeat steps 2 to 5 till we reach the last position.\n",
        "6. If the number was not found, return `-1`.\n",
        "\n",
        "\n",
        "\n",
        "\n"
      ]
    },
    {
      "cell_type": "code",
      "execution_count": 149,
      "id": "39653527",
      "metadata": {
        "colab": {
          "base_uri": "https://localhost:8080/",
          "height": 89
        },
        "id": "39653527",
        "outputId": "12a6f0d9-89e4-46c2-c2dc-51a1eb04cced"
      },
      "outputs": [
        {
          "output_type": "stream",
          "name": "stdout",
          "text": [
            "[jovian] Detected Colab notebook...\u001b[0m\n",
            "[jovian] Uploading colab notebook to Jovian...\u001b[0m\n",
            "Committed successfully! https://jovian.ai/nikhil-lokhande/linear-search-algorithm\n"
          ]
        },
        {
          "output_type": "execute_result",
          "data": {
            "application/vnd.google.colaboratory.intrinsic+json": {
              "type": "string"
            },
            "text/plain": [
              "'https://jovian.ai/nikhil-lokhande/linear-search-algorithm'"
            ]
          },
          "metadata": {},
          "execution_count": 149
        }
      ],
      "source": [
        "jovian.commit()"
      ]
    },
    {
      "cell_type": "markdown",
      "id": "543510fb",
      "metadata": {
        "id": "543510fb"
      },
      "source": [
        "###  4. Implement the solution and test it using example inputs. Fix bugs, if any."
      ]
    },
    {
      "cell_type": "code",
      "execution_count": 150,
      "id": "db998cdc",
      "metadata": {
        "id": "db998cdc"
      },
      "outputs": [],
      "source": [
        "def locate_card(cards, query):\n",
        "    # Create a variable position with the value 0\n",
        "    position = 0\n",
        "    \n",
        "    # Set up a loop for repetition\n",
        "    while True:\n",
        "        \n",
        "        # Check if element at the current position matche the query\n",
        "        if cards[position] == query:\n",
        "            \n",
        "            # Answer found! Return and exit..\n",
        "            return position\n",
        "        \n",
        "        # Increment the position\n",
        "        position += 1\n",
        "        \n",
        "        # Check if we have reached the end of the array\n",
        "        if position == len(cards):\n",
        "            \n",
        "            # Number not found, return -1\n",
        "            return -1"
      ]
    },
    {
      "cell_type": "code",
      "source": [
        "cards=[8,7,6,5,4,3,2,1]\n",
        "query=7\n",
        "output=1"
      ],
      "metadata": {
        "id": "llRWLNjHTtpa"
      },
      "id": "llRWLNjHTtpa",
      "execution_count": 151,
      "outputs": []
    },
    {
      "cell_type": "code",
      "execution_count": 152,
      "id": "c30bce57",
      "metadata": {
        "colab": {
          "base_uri": "https://localhost:8080/"
        },
        "id": "c30bce57",
        "outputId": "632da211-2515-456e-fcb5-09f5cd6e59d5"
      },
      "outputs": [
        {
          "output_type": "execute_result",
          "data": {
            "text/plain": [
              "{'input': {'cards': [8, 7, 6, 5, 4, 3, 2, 1], 'query': 7}, 'output': 1}"
            ]
          },
          "metadata": {},
          "execution_count": 152
        }
      ],
      "source": [
        "test"
      ]
    },
    {
      "cell_type": "code",
      "execution_count": 153,
      "id": "6ab62bc7",
      "metadata": {
        "colab": {
          "base_uri": "https://localhost:8080/"
        },
        "id": "6ab62bc7",
        "outputId": "c724a9f3-c462-49d6-d27c-711475a76ef7"
      },
      "outputs": [
        {
          "output_type": "execute_result",
          "data": {
            "text/plain": [
              "1"
            ]
          },
          "metadata": {},
          "execution_count": 153
        }
      ],
      "source": [
        "result = locate_card(test['input']['cards'], test['input']['query'])\n",
        "result"
      ]
    },
    {
      "cell_type": "code",
      "execution_count": 154,
      "id": "5b34c4c8",
      "metadata": {
        "colab": {
          "base_uri": "https://localhost:8080/"
        },
        "id": "5b34c4c8",
        "outputId": "b069f381-4838-4a73-dfb4-b5d8efda5610"
      },
      "outputs": [
        {
          "output_type": "execute_result",
          "data": {
            "text/plain": [
              "True"
            ]
          },
          "metadata": {},
          "execution_count": 154
        }
      ],
      "source": [
        "result == output"
      ]
    },
    {
      "cell_type": "markdown",
      "id": "463cd044",
      "metadata": {
        "id": "463cd044"
      },
      "source": [
        "We can test the function by passing the input to it directly or by using the `evaluate_test_case` function from `jovian`."
      ]
    },
    {
      "cell_type": "code",
      "execution_count": 155,
      "id": "bd828fc1",
      "metadata": {
        "id": "bd828fc1"
      },
      "outputs": [],
      "source": [
        "from jovian.pythondsa import evaluate_test_case"
      ]
    },
    {
      "cell_type": "code",
      "execution_count": 156,
      "id": "0380a138",
      "metadata": {
        "colab": {
          "base_uri": "https://localhost:8080/"
        },
        "id": "0380a138",
        "outputId": "f0c9da80-a8c6-40f1-df54-840879b20b9e"
      },
      "outputs": [
        {
          "output_type": "stream",
          "name": "stdout",
          "text": [
            "\n",
            "Input:\n",
            "{'cards': [8, 7, 6, 5, 4, 3, 2, 1], 'query': 7}\n",
            "\n",
            "Expected Output:\n",
            "1\n",
            "\n",
            "\n",
            "Actual Output:\n",
            "1\n",
            "\n",
            "Execution Time:\n",
            "0.003 ms\n",
            "\n",
            "Test Result:\n",
            "\u001b[92mPASSED\u001b[0m\n",
            "\n"
          ]
        },
        {
          "output_type": "execute_result",
          "data": {
            "text/plain": [
              "(1, True, 0.003)"
            ]
          },
          "metadata": {},
          "execution_count": 156
        }
      ],
      "source": [
        "evaluate_test_case(locate_card, test)"
      ]
    },
    {
      "cell_type": "markdown",
      "id": "4224e302",
      "metadata": {
        "id": "4224e302"
      },
      "source": [
        "Evaluate your function against all the test cases together using the `evaluate_test_cases` (plural) function from `jovian`."
      ]
    },
    {
      "cell_type": "code",
      "execution_count": 157,
      "id": "dbfd7272",
      "metadata": {
        "id": "dbfd7272"
      },
      "outputs": [],
      "source": [
        "from jovian.pythondsa import evaluate_test_cases"
      ]
    },
    {
      "cell_type": "code",
      "execution_count": 158,
      "id": "0cd06e32",
      "metadata": {
        "colab": {
          "base_uri": "https://localhost:8080/"
        },
        "id": "0cd06e32",
        "outputId": "2faf96f0-fb68-4421-859e-7c42afda421b"
      },
      "outputs": [
        {
          "output_type": "stream",
          "name": "stdout",
          "text": [
            "\n",
            "\u001b[1mTEST CASE #0\u001b[0m\n",
            "\n",
            "Input:\n",
            "{'cards': [8, 7, 6, 5, 4, 3, 2, 1], 'query': 7}\n",
            "\n",
            "Expected Output:\n",
            "1\n",
            "\n",
            "\n",
            "Actual Output:\n",
            "1\n",
            "\n",
            "Execution Time:\n",
            "0.003 ms\n",
            "\n",
            "Test Result:\n",
            "\u001b[92mPASSED\u001b[0m\n",
            "\n",
            "\n",
            "\u001b[1mTEST CASE #1\u001b[0m\n",
            "\n",
            "Input:\n",
            "{'cards': [8, 7, 6, 5, 4, 3, 2, 1], 'query': 2}\n",
            "\n",
            "Expected Output:\n",
            "6\n",
            "\n",
            "\n",
            "Actual Output:\n",
            "6\n",
            "\n",
            "Execution Time:\n",
            "0.008 ms\n",
            "\n",
            "Test Result:\n",
            "\u001b[92mPASSED\u001b[0m\n",
            "\n",
            "\n",
            "\u001b[1mTEST CASE #2\u001b[0m\n",
            "\n",
            "Input:\n",
            "{'cards': [4, 2, 1, -1], 'query': 4}\n",
            "\n",
            "Expected Output:\n",
            "0\n",
            "\n",
            "\n",
            "Actual Output:\n",
            "0\n",
            "\n",
            "Execution Time:\n",
            "0.001 ms\n",
            "\n",
            "Test Result:\n",
            "\u001b[92mPASSED\u001b[0m\n",
            "\n",
            "\n",
            "\u001b[1mTEST CASE #3\u001b[0m\n",
            "\n",
            "Input:\n",
            "{'cards': [3, -1, -9, -123], 'query': -123}\n",
            "\n",
            "Expected Output:\n",
            "3\n",
            "\n",
            "\n",
            "Actual Output:\n",
            "3\n",
            "\n",
            "Execution Time:\n",
            "0.003 ms\n",
            "\n",
            "Test Result:\n",
            "\u001b[92mPASSED\u001b[0m\n",
            "\n",
            "\n",
            "\u001b[1mTEST CASE #4\u001b[0m\n",
            "\n",
            "Input:\n",
            "{'cards': [9], 'query': 9}\n",
            "\n",
            "Expected Output:\n",
            "0\n",
            "\n",
            "\n",
            "Actual Output:\n",
            "0\n",
            "\n",
            "Execution Time:\n",
            "0.002 ms\n",
            "\n",
            "Test Result:\n",
            "\u001b[92mPASSED\u001b[0m\n",
            "\n",
            "\n",
            "\u001b[1mTEST CASE #5\u001b[0m\n",
            "\n",
            "Input:\n",
            "{'cards': [9, 7, 5, 2, -9], 'query': 4}\n",
            "\n",
            "Expected Output:\n",
            "-1\n",
            "\n",
            "\n",
            "Actual Output:\n",
            "-1\n",
            "\n",
            "Execution Time:\n",
            "0.008 ms\n",
            "\n",
            "Test Result:\n",
            "\u001b[92mPASSED\u001b[0m\n",
            "\n",
            "\n",
            "\u001b[1mSUMMARY\u001b[0m\n",
            "\n",
            "TOTAL: 6, \u001b[92mPASSED\u001b[0m: 6, \u001b[91mFAILED\u001b[0m: 0\n"
          ]
        },
        {
          "output_type": "execute_result",
          "data": {
            "text/plain": [
              "[(1, True, 0.003),\n",
              " (6, True, 0.008),\n",
              " (0, True, 0.001),\n",
              " (3, True, 0.003),\n",
              " (0, True, 0.002),\n",
              " (-1, True, 0.008)]"
            ]
          },
          "metadata": {},
          "execution_count": 158
        }
      ],
      "source": [
        "evaluate_test_cases(locate_card, tests)"
      ]
    },
    {
      "cell_type": "markdown",
      "id": "bdae71e5",
      "metadata": {
        "id": "bdae71e5"
      },
      "source": [
        ""
      ]
    },
    {
      "cell_type": "code",
      "execution_count": null,
      "id": "03155151",
      "metadata": {
        "id": "03155151",
        "outputId": "7860f055-2588-45f5-af46-5b51e6874dac"
      },
      "outputs": [
        {
          "data": {
            "application/javascript": [
              "window.require && require([\"base/js/namespace\"],function(Jupyter){Jupyter.notebook.save_checkpoint()})"
            ],
            "text/plain": [
              "<IPython.core.display.Javascript object>"
            ]
          },
          "metadata": {},
          "output_type": "display_data"
        },
        {
          "name": "stdout",
          "output_type": "stream",
          "text": [
            "[jovian] Attempting to save notebook..\u001b[0m\n",
            "[jovian] Updating notebook \"aakashns/python-problem-solving-template\" on https://jovian.ai/\u001b[0m\n",
            "[jovian] Uploading notebook..\u001b[0m\n",
            "[jovian] Capturing environment..\u001b[0m\n",
            "[jovian] Committed successfully! https://jovian.ai/aakashns/python-problem-solving-template\u001b[0m\n"
          ]
        },
        {
          "data": {
            "text/plain": [
              "'https://jovian.ai/aakashns/python-problem-solving-template'"
            ]
          },
          "execution_count": 17,
          "metadata": {},
          "output_type": "execute_result"
        }
      ],
      "source": [
        "jovian.commit()"
      ]
    }
  ],
  "metadata": {
    "kernelspec": {
      "display_name": "Python 3",
      "language": "python",
      "name": "python3"
    },
    "language_info": {
      "codemirror_mode": {
        "name": "ipython",
        "version": 3
      },
      "file_extension": ".py",
      "mimetype": "text/x-python",
      "name": "python",
      "nbconvert_exporter": "python",
      "pygments_lexer": "ipython3",
      "version": "3.8.6"
    },
    "colab": {
      "name": "Linear _Search_1.ipynb",
      "provenance": [],
      "collapsed_sections": [],
      "include_colab_link": true
    }
  },
  "nbformat": 4,
  "nbformat_minor": 5
}