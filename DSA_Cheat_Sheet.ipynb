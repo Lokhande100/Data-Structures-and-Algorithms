{
  "nbformat": 4,
  "nbformat_minor": 0,
  "metadata": {
    "colab": {
      "name": "DSA Cheat Sheet.ipynb",
      "provenance": [],
      "authorship_tag": "ABX9TyMDeXDjxAJZPgm9OQ2CXM8V",
      "include_colab_link": true
    },
    "kernelspec": {
      "name": "python3",
      "display_name": "Python 3"
    },
    "language_info": {
      "name": "python"
    }
  },
  "cells": [
    {
      "cell_type": "markdown",
      "metadata": {
        "id": "view-in-github",
        "colab_type": "text"
      },
      "source": [
        "<a href=\"https://colab.research.google.com/github/Lokhande100/Data-Structures-and-Algorithms/blob/main/DSA_Cheat_Sheet.ipynb\" target=\"_parent\"><img src=\"https://colab.research.google.com/assets/colab-badge.svg\" alt=\"Open In Colab\"/></a>"
      ]
    },
    {
      "cell_type": "code",
      "execution_count": null,
      "metadata": {
        "id": "fLSNrnYZWiVt"
      },
      "outputs": [],
      "source": [
        "#Binary Tree\n",
        "\n",
        "    #A binary tree is a tree with at most two (2) child nodes per parent\n",
        "    #Binary trees are commonly used for implementing O(log(n)) operations for ordered maps, sets, heaps, and binary search trees\n",
        "    #Binary trees are sorted in that nodes with values greater than their parents are inserted to the right, \n",
        "    #while nodes with values less than their parents are inserted to the left\n"
      ]
    },
    {
      "cell_type": "markdown",
      "source": [
        "![image.png](data:image/png;base64,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)"
      ],
      "metadata": {
        "id": "h1QOiHzGabUD"
      }
    },
    {
      "cell_type": "markdown",
      "source": [
        ""
      ],
      "metadata": {
        "id": "pMD-QnmXWlJ4"
      }
    },
    {
      "cell_type": "markdown",
      "source": [
        "Binary Search\n",
        "\n",
        "\n",
        "    If current element, return\n",
        "    If less than current element, look left\n",
        "    If more than current element, look right\n",
        "    Repeat\n",
        "\n",
        "Space:\n",
        "\n",
        "    O(1)\n",
        "\n",
        "Best Case:\n",
        "\n",
        "    O(1)\n",
        "\n",
        "Worst Case:\n",
        "\n",
        "    O(log n)\n",
        "\n",
        "Average:\n",
        "\n",
        "    O(log n)\n"
      ],
      "metadata": {
        "id": "JrS_E8loW2SX"
      }
    },
    {
      "cell_type": "markdown",
      "source": [
        ""
      ],
      "metadata": {
        "id": "tHeY3ZBceL1q"
      }
    },
    {
      "cell_type": "markdown",
      "source": [
        "[![Foo](https://github.com/gibsjose/cpp-cheat-sheet/raw/master/Searching/Animations/Binary%20Search.gif)](http://google.com.au/)"
      ],
      "metadata": {
        "id": "XN1HFx2_hpcI"
      }
    },
    {
      "cell_type": "markdown",
      "source": [
        ""
      ],
      "metadata": {
        "id": "MNhDi0n6b-_b"
      }
    },
    {
      "cell_type": "markdown",
      "source": [
        "Depth-First Search\n",
        "\n",
        "  Start at root node\n",
        "  Recursively search all adjacent nodes and mark them as searched\n",
        "  Repeat\n",
        "\n",
        "Data Structures:\n",
        "\n",
        "    Tree\n",
        "    Graph\n",
        "\n",
        "Space:\n",
        "\n",
        "    O(V), V = number of verticies\n",
        "\n",
        "Performance:\n",
        "\n",
        "    O(E), E = number of edges\n"
      ],
      "metadata": {
        "id": "SJgvWqtSXcZL"
      }
    },
    {
      "cell_type": "code",
      "source": [
        ""
      ],
      "metadata": {
        "id": "BI_ufWGsXFrb"
      },
      "execution_count": null,
      "outputs": []
    },
    {
      "cell_type": "markdown",
      "source": [
        "[![Foo](https://github.com/gibsjose/cpp-cheat-sheet/raw/master/Searching/Animations/Depth-First%20Search.gif)](http://google.com.au/)"
      ],
      "metadata": {
        "id": "2t9yQJrViB6W"
      }
    },
    {
      "cell_type": "markdown",
      "source": [
        "Breadth-First Search\n",
        "\n",
        "    Start at root node\n",
        "    Search neighboring nodes first before moving on to next level\n",
        "\n",
        "Data Structures:\n",
        "\n",
        "    Tree\n",
        "    Graph\n",
        "\n",
        "Space:\n",
        "\n",
        "    O(V), V = number of verticies\n",
        "\n",
        "Performance:\n",
        "\n",
        "    O(E), E = number of edges\n"
      ],
      "metadata": {
        "id": "SRKgToqJXmFJ"
      }
    },
    {
      "cell_type": "markdown",
      "source": [
        ""
      ],
      "metadata": {
        "id": "vFeDe_imXblP"
      }
    },
    {
      "cell_type": "markdown",
      "source": [
        "[![Foo](https://github.com/gibsjose/cpp-cheat-sheet/raw/master/Searching/Animations/Breadth-First%20Search.gif)](http://google.com.au/)"
      ],
      "metadata": {
        "id": "R4ue5vSHiLzy"
      }
    },
    {
      "cell_type": "markdown",
      "source": [
        "Insertion Sort\n",
        "\n",
        "    Iterate over all elements\n",
        "    For each element:\n",
        "        Check if element is larger than largest value in sorted array\n",
        "    If larger: Move on\n",
        "    If smaller: Move item to correct position in sorted array\n",
        "\n",
        "Details\n",
        "\n",
        "    Data structure: Array\n",
        "    Space: O(1)\n",
        "    Best Case: Already sorted, O(n)\n",
        "    Worst Case: Reverse sorted, O(n^2)\n",
        "    Average: O(n^2)\n",
        "\n",
        "Advantages\n",
        "\n",
        "    Easy to code\n",
        "    Intuitive\n",
        "    Better than selection sort and bubble sort for small data sets\n",
        "    Can sort in-place\n",
        "\n",
        "Disadvantages\n",
        "\n",
        "    Very inefficient for large datasets\n",
        "\n"
      ],
      "metadata": {
        "id": "ohaCnSimX5Tq"
      }
    },
    {
      "cell_type": "code",
      "source": [
        ""
      ],
      "metadata": {
        "id": "37ee8L-5Yo0g"
      },
      "execution_count": null,
      "outputs": []
    },
    {
      "cell_type": "markdown",
      "source": [
        "[![Foo](https://github.com/gibsjose/cpp-cheat-sheet/raw/master/Sorting/Animations/Insertion%20Sort.gif)](http://google.com.au/)"
      ],
      "metadata": {
        "id": "yPwbgwW_iXgR"
      }
    },
    {
      "cell_type": "markdown",
      "source": [
        "Selection Sort\n",
        "\n",
        "    Iterate over all elements\n",
        "    For each element:\n",
        "    If smallest element of unsorted sublist, swap with left-most unsorted element\n",
        "\n",
        "Details\n",
        "\n",
        "    Data structure: Array\n",
        "    Space: O(1)\n",
        "    Best Case: Already sorted, O(n^2)\n",
        "    Worst Case: Reverse sorted, O(n^2)\n",
        "    Average: O(n^2)\n",
        "\n",
        "Advantages\n",
        "\n",
        "    Simple\n",
        "    Can sort in-place\n",
        "    Low memory usage for small datasets\n",
        "\n",
        "Disadvantages\n",
        "\n",
        "    Very inefficient for large datasets\n"
      ],
      "metadata": {
        "id": "pcsKqWD8YpCB"
      }
    },
    {
      "cell_type": "code",
      "source": [
        ""
      ],
      "metadata": {
        "id": "T7eXKyXpYxMN"
      },
      "execution_count": null,
      "outputs": []
    },
    {
      "cell_type": "markdown",
      "source": [
        "Bubble Sort\n",
        "\n",
        "    Iterate over all elements\n",
        "    For each element:\n",
        "    Swap with next element if out of order\n",
        "    Repeat until no swaps needed\n",
        "\n",
        "Details\n",
        "\n",
        "    Data structure: Array\n",
        "    Space: O(1)\n",
        "    Best Case: Already sorted O(n)\n",
        "    Worst Case: Reverse sorted, O(n^2)\n",
        "    Average: O(n^2)\n",
        "\n",
        "Advantages\n",
        "\n",
        "    Easy to detect if list is sorted\n",
        "\n",
        "Disadvantages\n",
        "\n",
        "    Very inefficient for large datasets\n",
        "    Much worse than even insertion sort\n"
      ],
      "metadata": {
        "id": "xROIiY8ZYz4F"
      }
    },
    {
      "cell_type": "code",
      "source": [
        ""
      ],
      "metadata": {
        "id": "nJQqfMWwY3Ee"
      },
      "execution_count": null,
      "outputs": []
    },
    {
      "cell_type": "markdown",
      "source": [
        "[![Foo](https://github.com/gibsjose/cpp-cheat-sheet/raw/master/Sorting/Animations/Bubble%20Sort.gif)](http://google.com.au/)"
      ],
      "metadata": {
        "id": "i1Wf7YR1inXv"
      }
    },
    {
      "cell_type": "markdown",
      "source": [
        "Merge Sort\n",
        "\n",
        "    Divide list into smallest unit (1 element)\n",
        "    Compare each element with the adjacent list\n",
        "    Merge the two adjacent lists\n",
        "    Repeat\n",
        "\n",
        "Details\n",
        "\n",
        "    Data structure: Array\n",
        "    Space: O(n) auxiliary\n",
        "    Best Case: O(nlog(n))\n",
        "    Worst Case: Reverse sorted, O(nlog(n))\n",
        "    Average: O(nlog(n))\n",
        "\n",
        "Advantages\n",
        "\n",
        "    High efficiency on large datasets\n",
        "    Nearly always O(nlog(n))\n",
        "    Can be parallelized\n",
        "    Better space complexity than standard Quicksort\n",
        "\n",
        "Disadvantages\n",
        "\n",
        "    Still requires O(n) extra space\n",
        "    Slightly worse than Quicksort in some instances\n"
      ],
      "metadata": {
        "id": "X1uZg3nHY3th"
      }
    },
    {
      "cell_type": "code",
      "source": [
        ""
      ],
      "metadata": {
        "id": "gzE99UkpY-P0"
      },
      "execution_count": null,
      "outputs": []
    },
    {
      "cell_type": "markdown",
      "source": [
        "Quicksort\n",
        "\n",
        "    Choose a pivot from the array\n",
        "    Partition: Reorder the array so that all elements with values less than the pivot come before the pivot, and all values greater than the pivot come after\n",
        "    Recursively apply the above steps to the sub-arrays\n",
        "\n",
        "Details\n",
        "\n",
        "    Data structure: Array\n",
        "    Space: O(n)\n",
        "    Best Case: O(nlog(n))\n",
        "    Worst Case: All elements equal, O(n^2)\n",
        "    Average: O(nlog(n))\n",
        "\n",
        "Advantages\n",
        "\n",
        "    Can be modified to use O(log(n)) space\n",
        "    Very quick and efficient with large datasets\n",
        "    Can be parallelized\n",
        "    Divide and conquer algorithm\n",
        "\n",
        "Disadvantages\n",
        "\n",
        "    Not stable (could swap equal elements)\n",
        "    Worst case is worse than Merge Sort\n",
        "\n",
        "Optimizations\n",
        "\n",
        "    Choice of pivot:\n",
        "        Choose median of the first, middle, and last elements as pivot\n",
        "        Counters worst-case complexity for already-sorted and reverse-sorted\n"
      ],
      "metadata": {
        "id": "y0JKaVnVZDzR"
      }
    },
    {
      "cell_type": "code",
      "source": [
        ""
      ],
      "metadata": {
        "id": "q0RXFZp6ZHq2"
      },
      "execution_count": null,
      "outputs": []
    }
  ]
}