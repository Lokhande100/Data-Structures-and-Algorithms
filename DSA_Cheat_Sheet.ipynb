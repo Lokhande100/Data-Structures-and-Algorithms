{
  "nbformat": 4,
  "nbformat_minor": 0,
  "metadata": {
    "colab": {
      "name": "DSA Cheat Sheet.ipynb",
      "provenance": [],
      "authorship_tag": "ABX9TyMOw6O3Ueapm7hZc16p3sqJ",
      "include_colab_link": true
    },
    "kernelspec": {
      "name": "python3",
      "display_name": "Python 3"
    },
    "language_info": {
      "name": "python"
    }
  },
  "cells": [
    {
      "cell_type": "markdown",
      "metadata": {
        "id": "view-in-github",
        "colab_type": "text"
      },
      "source": [
        "<a href=\"https://colab.research.google.com/github/Lokhande100/Data-Structures-and-Algorithms/blob/main/DSA_Cheat_Sheet.ipynb\" target=\"_parent\"><img src=\"https://colab.research.google.com/assets/colab-badge.svg\" alt=\"Open In Colab\"/></a>"
      ]
    },
    {
      "cell_type": "code",
      "execution_count": null,
      "metadata": {
        "id": "fLSNrnYZWiVt"
      },
      "outputs": [],
      "source": [
        "#Binary Tree\n",
        "\n",
        "    #A binary tree is a tree with at most two (2) child nodes per parent\n",
        "    #Binary trees are commonly used for implementing O(log(n)) operations for ordered maps, sets, heaps, and binary search trees\n",
        "    #Binary trees are sorted in that nodes with values greater than their parents are inserted to the right, \n",
        "    #while nodes with values less than their parents are inserted to the left\n"
      ]
    },
    {
      "cell_type": "markdown",
      "source": [
        ""
      ],
      "metadata": {
        "id": "pMD-QnmXWlJ4"
      }
    },
    {
      "cell_type": "markdown",
      "source": [
        "Binary Search\n",
        "\n",
        "\n",
        "    If current element, return\n",
        "    If less than current element, look left\n",
        "    If more than current element, look right\n",
        "    Repeat\n",
        "\n",
        "Space:\n",
        "\n",
        "    O(1)\n",
        "\n",
        "Best Case:\n",
        "\n",
        "    O(1)\n",
        "\n",
        "Worst Case:\n",
        "\n",
        "    O(log n)\n",
        "\n",
        "Average:\n",
        "\n",
        "    O(log n)\n"
      ],
      "metadata": {
        "id": "JrS_E8loW2SX"
      }
    },
    {
      "cell_type": "code",
      "source": [
        ""
      ],
      "metadata": {
        "id": "PG5OcrsrWjw5"
      },
      "execution_count": null,
      "outputs": []
    },
    {
      "cell_type": "markdown",
      "source": [
        "Depth-First Search\n",
        "\n",
        "  Start at root node\n",
        "  Recursively search all adjacent nodes and mark them as searched\n",
        "  Repeat\n",
        "\n",
        "Data Structures:\n",
        "\n",
        "    Tree\n",
        "    Graph\n",
        "\n",
        "Space:\n",
        "\n",
        "    O(V), V = number of verticies\n",
        "\n",
        "Performance:\n",
        "\n",
        "    O(E), E = number of edges\n"
      ],
      "metadata": {
        "id": "SJgvWqtSXcZL"
      }
    },
    {
      "cell_type": "code",
      "source": [
        ""
      ],
      "metadata": {
        "id": "BI_ufWGsXFrb"
      },
      "execution_count": null,
      "outputs": []
    },
    {
      "cell_type": "markdown",
      "source": [
        "Breadth-First Search\n",
        "\n",
        "    Start at root node\n",
        "    Search neighboring nodes first before moving on to next level\n",
        "\n",
        "Data Structures:\n",
        "\n",
        "    Tree\n",
        "    Graph\n",
        "\n",
        "Space:\n",
        "\n",
        "    O(V), V = number of verticies\n",
        "\n",
        "Performance:\n",
        "\n",
        "    O(E), E = number of edges\n"
      ],
      "metadata": {
        "id": "SRKgToqJXmFJ"
      }
    },
    {
      "cell_type": "markdown",
      "source": [
        ""
      ],
      "metadata": {
        "id": "vFeDe_imXblP"
      }
    },
    {
      "cell_type": "markdown",
      "source": [
        "Insertion Sort\n",
        "\n",
        "    Iterate over all elements\n",
        "    For each element:\n",
        "        Check if element is larger than largest value in sorted array\n",
        "    If larger: Move on\n",
        "    If smaller: Move item to correct position in sorted array\n",
        "\n",
        "Details\n",
        "\n",
        "    Data structure: Array\n",
        "    Space: O(1)\n",
        "    Best Case: Already sorted, O(n)\n",
        "    Worst Case: Reverse sorted, O(n^2)\n",
        "    Average: O(n^2)\n",
        "\n",
        "Advantages\n",
        "\n",
        "    Easy to code\n",
        "    Intuitive\n",
        "    Better than selection sort and bubble sort for small data sets\n",
        "    Can sort in-place\n",
        "\n",
        "Disadvantages\n",
        "\n",
        "    Very inefficient for large datasets\n",
        "\n"
      ],
      "metadata": {
        "id": "ohaCnSimX5Tq"
      }
    },
    {
      "cell_type": "code",
      "source": [
        ""
      ],
      "metadata": {
        "id": "37ee8L-5Yo0g"
      },
      "execution_count": null,
      "outputs": []
    },
    {
      "cell_type": "markdown",
      "source": [
        "Selection Sort\n",
        "\n",
        "    Iterate over all elements\n",
        "    For each element:\n",
        "    If smallest element of unsorted sublist, swap with left-most unsorted element\n",
        "\n",
        "Details\n",
        "\n",
        "    Data structure: Array\n",
        "    Space: O(1)\n",
        "    Best Case: Already sorted, O(n^2)\n",
        "    Worst Case: Reverse sorted, O(n^2)\n",
        "    Average: O(n^2)\n",
        "\n",
        "Advantages\n",
        "\n",
        "    Simple\n",
        "    Can sort in-place\n",
        "    Low memory usage for small datasets\n",
        "\n",
        "Disadvantages\n",
        "\n",
        "    Very inefficient for large datasets\n"
      ],
      "metadata": {
        "id": "pcsKqWD8YpCB"
      }
    },
    {
      "cell_type": "code",
      "source": [
        ""
      ],
      "metadata": {
        "id": "T7eXKyXpYxMN"
      },
      "execution_count": null,
      "outputs": []
    },
    {
      "cell_type": "markdown",
      "source": [
        "Bubble Sort\n",
        "\n",
        "    Iterate over all elements\n",
        "    For each element:\n",
        "    Swap with next element if out of order\n",
        "    Repeat until no swaps needed\n",
        "\n",
        "Details\n",
        "\n",
        "    Data structure: Array\n",
        "    Space: O(1)\n",
        "    Best Case: Already sorted O(n)\n",
        "    Worst Case: Reverse sorted, O(n^2)\n",
        "    Average: O(n^2)\n",
        "\n",
        "Advantages\n",
        "\n",
        "    Easy to detect if list is sorted\n",
        "\n",
        "Disadvantages\n",
        "\n",
        "    Very inefficient for large datasets\n",
        "    Much worse than even insertion sort\n"
      ],
      "metadata": {
        "id": "xROIiY8ZYz4F"
      }
    },
    {
      "cell_type": "code",
      "source": [
        ""
      ],
      "metadata": {
        "id": "nJQqfMWwY3Ee"
      },
      "execution_count": null,
      "outputs": []
    },
    {
      "cell_type": "markdown",
      "source": [
        "Merge Sort\n",
        "\n",
        "    Divide list into smallest unit (1 element)\n",
        "    Compare each element with the adjacent list\n",
        "    Merge the two adjacent lists\n",
        "    Repeat\n",
        "\n",
        "Details\n",
        "\n",
        "    Data structure: Array\n",
        "    Space: O(n) auxiliary\n",
        "    Best Case: O(nlog(n))\n",
        "    Worst Case: Reverse sorted, O(nlog(n))\n",
        "    Average: O(nlog(n))\n",
        "\n",
        "Advantages\n",
        "\n",
        "    High efficiency on large datasets\n",
        "    Nearly always O(nlog(n))\n",
        "    Can be parallelized\n",
        "    Better space complexity than standard Quicksort\n",
        "\n",
        "Disadvantages\n",
        "\n",
        "    Still requires O(n) extra space\n",
        "    Slightly worse than Quicksort in some instances\n"
      ],
      "metadata": {
        "id": "X1uZg3nHY3th"
      }
    },
    {
      "cell_type": "code",
      "source": [
        ""
      ],
      "metadata": {
        "id": "gzE99UkpY-P0"
      },
      "execution_count": null,
      "outputs": []
    },
    {
      "cell_type": "markdown",
      "source": [
        "Quicksort\n",
        "\n",
        "    Choose a pivot from the array\n",
        "    Partition: Reorder the array so that all elements with values less than the pivot come before the pivot, and all values greater than the pivot come after\n",
        "    Recursively apply the above steps to the sub-arrays\n",
        "\n",
        "Details\n",
        "\n",
        "    Data structure: Array\n",
        "    Space: O(n)\n",
        "    Best Case: O(nlog(n))\n",
        "    Worst Case: All elements equal, O(n^2)\n",
        "    Average: O(nlog(n))\n",
        "\n",
        "Advantages\n",
        "\n",
        "    Can be modified to use O(log(n)) space\n",
        "    Very quick and efficient with large datasets\n",
        "    Can be parallelized\n",
        "    Divide and conquer algorithm\n",
        "\n",
        "Disadvantages\n",
        "\n",
        "    Not stable (could swap equal elements)\n",
        "    Worst case is worse than Merge Sort\n",
        "\n",
        "Optimizations\n",
        "\n",
        "    Choice of pivot:\n",
        "        Choose median of the first, middle, and last elements as pivot\n",
        "        Counters worst-case complexity for already-sorted and reverse-sorted\n"
      ],
      "metadata": {
        "id": "y0JKaVnVZDzR"
      }
    },
    {
      "cell_type": "code",
      "source": [
        ""
      ],
      "metadata": {
        "id": "q0RXFZp6ZHq2"
      },
      "execution_count": null,
      "outputs": []
    }
  ]
}