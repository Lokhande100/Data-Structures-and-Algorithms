{
  "cells": [
    {
      "cell_type": "markdown",
      "metadata": {
        "id": "view-in-github",
        "colab_type": "text"
      },
      "source": [
        "<a href=\"https://colab.research.google.com/github/Lokhande10/Data-Structures-and-Algorithms/blob/main/python_graph_algorithms.ipynb\" target=\"_parent\"><img src=\"https://colab.research.google.com/assets/colab-badge.svg\" alt=\"Open In Colab\"/></a>"
      ]
    },
    {
      "cell_type": "code",
      "execution_count": 70,
      "id": "0dcb9eba",
      "metadata": {
        "id": "0dcb9eba"
      },
      "outputs": [],
      "source": [
        "# Jovian Commit Essentials\n",
        "# Please retain and execute this cell without modifying the contents for `jovian.commit` to work\n",
        "!pip install jovian --upgrade -q\n",
        "import jovian\n",
        "jovian.set_project('python-graph-algorithms')\n",
        "jovian.set_colab_id('18lsPKshzaZijp2d6fUvDgB_aR212TMe1')"
      ]
    },
    {
      "cell_type": "markdown",
      "id": "variable-garbage",
      "metadata": {
        "id": "variable-garbage"
      },
      "source": [
        "# Graph Algorithms (BFS, DFS, Shortest Paths) using Python\n",
        "\n",
        "### Part 5 of \"Data Structures and Algorithms in Python\"\n",
        "\n",
        "[Data Structures and Algorithms in Python](https://jovian.ai/learn/data-structures-and-algorithms-in-python) is a beginner-friendly introduction to common data structures (linked lists, stacks, queues, graphs) and algorithms (search, sorting, recursion, dynamic programming) in Python, designed to help you prepare for coding interviews and assessments. \n",
        "\n",
        "Ask questions, get help & participate in discussions on the [course community forum](https://jovian.ai/forum/c/data-structures-and-algorithms-in-python/78). Earn a verified certificate of accomplishment for this course by signing up here: http://pythondsa.com.  \n",
        "\n"
      ]
    },
    {
      "cell_type": "markdown",
      "id": "acceptable-clearance",
      "metadata": {
        "id": "acceptable-clearance"
      },
      "source": [
        "### How to Run the Code\n",
        "\n",
        "The best way to learn the material is to execute the code and experiment with it yourself. This tutorial is an executable [Jupyter notebook](https://jupyter.org). You can _run_ this tutorial and experiment with the code examples in a couple of ways: *using free online resources* (recommended) or *on your computer*.\n",
        "\n",
        "#### Option 1: Running using free online resources (1-click, recommended)\n",
        "\n",
        "The easiest way to start executing the code is to click the **Run** button at the top of this page and select **Run on Binder**. You can also select \"Run on Colab\" or \"Run on Kaggle\", but you'll need to create an account on [Google Colab](https://colab.research.google.com) or [Kaggle](https://kaggle.com) to use these platforms.\n",
        "\n",
        "\n",
        "#### Option 2: Running on your computer locally\n",
        "\n",
        "To run the code on your computer locally, you'll need to set up [Python](https://www.python.org), download the notebook and install the required libraries. We recommend using the [Conda](https://docs.conda.io/projects/conda/en/latest/user-guide/install/) distribution of Python. Click the **Run** button at the top of this page, select the **Run Locally** option, and follow the instructions.\n",
        "\n"
      ]
    },
    {
      "cell_type": "markdown",
      "id": "polyphonic-brisbane",
      "metadata": {
        "id": "polyphonic-brisbane"
      },
      "source": [
        "## Graphs in the Real World\n",
        "\n",
        "### Railway network\n",
        "\n",
        "![](https://i.imgur.com/uSF6AEJ.png)\n",
        "\n",
        "### Flight routes\n",
        "\n",
        "![](https://www.mapsales.com/products/mapsofworld/images/zoom/world-air-route-wall-map.gif)\n",
        "\n",
        "### Hyperlinks\n",
        "\n",
        "![](https://i.imgur.com/hlGDYn2.png)"
      ]
    },
    {
      "cell_type": "markdown",
      "id": "stretch-superior",
      "metadata": {
        "id": "stretch-superior"
      },
      "source": [
        "## Graph Data Strucutre\n",
        "\n",
        "![](https://i.imgur.com/xkgMnwx.png)\n",
        "\n"
      ]
    },
    {
      "cell_type": "code",
      "execution_count": 71,
      "id": "settled-medicaid",
      "metadata": {
        "colab": {
          "base_uri": "https://localhost:8080/"
        },
        "id": "settled-medicaid",
        "outputId": "adbd111f-e874-4331-92ef-f6e87697d533"
      },
      "outputs": [
        {
          "output_type": "execute_result",
          "data": {
            "text/plain": [
              "(5, 7)"
            ]
          },
          "metadata": {},
          "execution_count": 71
        }
      ],
      "source": [
        "num_nodes=5\n",
        "edges=[ (0,1),(0,4),(1,2),(2,3),(1,3),(1,4),(3,4) ]\n",
        "num_nodes,len(edges)"
      ]
    },
    {
      "cell_type": "markdown",
      "id": "white-outdoors",
      "metadata": {
        "id": "white-outdoors"
      },
      "source": [
        "### Adjacency Lists\n",
        "\n",
        "![](https://i.imgur.com/rgMwkIW.png)\n",
        "\n",
        "\n",
        "> **Question**: Create a class to represent a graph as an adjacency list in Python"
      ]
    },
    {
      "cell_type": "code",
      "execution_count": 72,
      "id": "premium-prison",
      "metadata": {
        "id": "premium-prison"
      },
      "outputs": [],
      "source": [
        "class graph:\n",
        "  def __init__(self,num_nodes,edges):\n",
        "    self.num_nodes=num_nodes\n",
        "    self.data=[[] for _ in range (num_nodes)]\n",
        "    for n1,n2 in edges:\n",
        "      self.data[n1].append(n2)\n",
        "      self.data[n2].append(n1)\n",
        "  def __repr__(self):\n",
        "   [n,'neighbors' in enumerate(self.data)]"
      ]
    },
    {
      "cell_type": "code",
      "execution_count": 73,
      "id": "improving-section",
      "metadata": {
        "id": "improving-section"
      },
      "outputs": [],
      "source": [
        "graph1=graph(num_nodes,edges)"
      ]
    },
    {
      "cell_type": "code",
      "execution_count": 74,
      "id": "speaking-routine",
      "metadata": {
        "colab": {
          "base_uri": "https://localhost:8080/"
        },
        "id": "speaking-routine",
        "outputId": "6ed195c1-7a78-4f16-a56f-3104ab05bbdd"
      },
      "outputs": [
        {
          "output_type": "execute_result",
          "data": {
            "text/plain": [
              "[[1, 4], [0, 2, 3, 4], [1, 3], [2, 1, 4], [0, 1, 3]]"
            ]
          },
          "metadata": {},
          "execution_count": 74
        }
      ],
      "source": [
        "graph1.data"
      ]
    },
    {
      "cell_type": "code",
      "execution_count": 75,
      "id": "viral-pendant",
      "metadata": {
        "colab": {
          "base_uri": "https://localhost:8080/"
        },
        "id": "viral-pendant",
        "outputId": "4d820a76-4853-40de-d720-978ab816358a"
      },
      "outputs": [
        {
          "output_type": "stream",
          "name": "stdout",
          "text": [
            "(0, [1, 4])\n",
            "(1, [0, 2, 3, 4])\n",
            "(2, [1, 3])\n",
            "(3, [2, 1, 4])\n",
            "(4, [0, 1, 3])\n"
          ]
        }
      ],
      "source": [
        "for x in enumerate(graph1.data):\n",
        "  print(x)"
      ]
    },
    {
      "cell_type": "markdown",
      "id": "english-action",
      "metadata": {
        "id": "english-action"
      },
      "source": [
        "> **Question**: Write a function to add an edge to a graph represented as an adjacency list. \n",
        "\n",
        "> **Question**: Write a function to remove an edge from a graph represented as a adjacency list.\n"
      ]
    },
    {
      "cell_type": "code",
      "source": [
        "\n",
        "def addEdge(adj, u, v):\n",
        " \n",
        "    adj[u].append(v);\n",
        "    adj[v].append(u);\n",
        "     \n",
        "# A utility function to delete an edge in an\n",
        "# undirected graph.\n",
        "def delEdge(adj,  u,  v):\n",
        "     \n",
        "    # Traversing through the first vector list\n",
        "    # and removing the second element from it\n",
        "    for i in range(len(adj[u])):\n",
        "     \n",
        "        if (adj[u][i] == v):\n",
        "             \n",
        "            adj[u].pop(i);\n",
        "            break;\n",
        "     \n",
        "    # Traversing through the second vector list\n",
        "    # and removing the first element from it\n",
        "    for i in range(len(adj[v])):\n",
        "     \n",
        "        if (adj[v][i] == u):\n",
        "             \n",
        "            adj[v].pop(i);\n",
        "            break;\n",
        "      \n",
        "# A utility function to pr the adjacency list\n",
        "# representation of graph\n",
        "def prGraph(adj,  V):\n",
        "     \n",
        "    for v in range(V):\n",
        "         \n",
        "        print(\"vertex \" + str(v), end = ' ')\n",
        "         \n",
        "        for x in adj[v]:\n",
        "            print(\"-> \" + str(x), end = '')\n",
        "             \n",
        "        print()\n",
        "    print()\n",
        "     \n",
        "# Driver code\n",
        "if __name__=='__main__':\n",
        " \n",
        "    V = 5;\n",
        "    adj = [[] for i in range(V)]\n",
        "  \n",
        "    # Adding edge as shown in the example figure\n",
        "    addEdge(adj, 0, 1);\n",
        "    addEdge(adj, 0, 4);\n",
        "    addEdge(adj, 1, 2);\n",
        "    addEdge(adj, 1, 3);\n",
        "    addEdge(adj, 1, 4);\n",
        "    addEdge(adj, 2, 3);\n",
        "    addEdge(adj, 3, 4);\n",
        "  \n",
        "    # Print adjacency matrix\n",
        "    prGraph(adj, V);\n",
        "  \n",
        "    # Deleting edge (1, 4)\n",
        "    # as shown in the example figure\n",
        "    delEdge(adj, 1, 4);\n",
        "  \n",
        "    # Print adjacency matrix\n",
        "    prGraph(adj, V);"
      ],
      "metadata": {
        "colab": {
          "base_uri": "https://localhost:8080/"
        },
        "id": "XiStILbLvrGD",
        "outputId": "2c2986ee-9949-4baf-da8b-88dc86334fd4"
      },
      "id": "XiStILbLvrGD",
      "execution_count": 76,
      "outputs": [
        {
          "output_type": "stream",
          "name": "stdout",
          "text": [
            "vertex 0 -> 1-> 4\n",
            "vertex 1 -> 0-> 2-> 3-> 4\n",
            "vertex 2 -> 1-> 3\n",
            "vertex 3 -> 1-> 2-> 4\n",
            "vertex 4 -> 0-> 1-> 3\n",
            "\n",
            "vertex 0 -> 1-> 4\n",
            "vertex 1 -> 0-> 2-> 3\n",
            "vertex 2 -> 1-> 3\n",
            "vertex 3 -> 1-> 2-> 4\n",
            "vertex 4 -> 0-> 3\n",
            "\n"
          ]
        }
      ]
    },
    {
      "cell_type": "code",
      "execution_count": 77,
      "id": "nasty-alberta",
      "metadata": {
        "id": "nasty-alberta"
      },
      "outputs": [],
      "source": [
        "!pip install jovian --upgrade --quiet"
      ]
    },
    {
      "cell_type": "code",
      "execution_count": 78,
      "id": "renewable-consumption",
      "metadata": {
        "id": "renewable-consumption"
      },
      "outputs": [],
      "source": [
        "import jovian"
      ]
    },
    {
      "cell_type": "code",
      "execution_count": 79,
      "id": "collaborative-reduction",
      "metadata": {
        "colab": {
          "base_uri": "https://localhost:8080/",
          "height": 89
        },
        "id": "collaborative-reduction",
        "outputId": "1358865e-8092-47f3-8c8f-fc30b0f04dce"
      },
      "outputs": [
        {
          "output_type": "stream",
          "name": "stdout",
          "text": [
            "[jovian] Detected Colab notebook...\u001b[0m\n",
            "[jovian] Uploading colab notebook to Jovian...\u001b[0m\n",
            "Committed successfully! https://jovian.ai/nikhil-lokhande/python-graph-algorithms\n"
          ]
        },
        {
          "output_type": "execute_result",
          "data": {
            "application/vnd.google.colaboratory.intrinsic+json": {
              "type": "string"
            },
            "text/plain": [
              "'https://jovian.ai/nikhil-lokhande/python-graph-algorithms'"
            ]
          },
          "metadata": {},
          "execution_count": 79
        }
      ],
      "source": [
        "jovian.commit()"
      ]
    },
    {
      "cell_type": "markdown",
      "id": "potential-native",
      "metadata": {
        "id": "potential-native"
      },
      "source": [
        "### Adjacency Matrix\n",
        "\n",
        "![](https://i.imgur.com/oswYKTW.png)\n",
        "\n",
        "> **Question**: Represent a graph as an adjacency matrix in Python"
      ]
    },
    {
      "cell_type": "code",
      "source": [
        "\n",
        "# code to convert graph into adjacency list"
      ],
      "metadata": {
        "id": "qDve4YKqJ7eo"
      },
      "id": "qDve4YKqJ7eo",
      "execution_count": 80,
      "outputs": []
    },
    {
      "cell_type": "code",
      "execution_count": 81,
      "id": "sensitive-iraqi",
      "metadata": {
        "id": "sensitive-iraqi",
        "colab": {
          "base_uri": "https://localhost:8080/"
        },
        "outputId": "643c702a-4da9-4211-cf2e-0a2a40d4bd46"
      },
      "outputs": [
        {
          "output_type": "stream",
          "name": "stdout",
          "text": [
            "vertex 0 : 1: 4\n",
            "vertex 1 : 0: 2: 3: 4\n",
            "vertex 2 : 1: 3\n",
            "vertex 3 : 1: 2: 4\n",
            "vertex 4 : 0: 1: 3\n",
            "\n"
          ]
        }
      ],
      "source": [
        "def prGraph(adj,  V):\n",
        "     \n",
        "    for x in range(V):\n",
        "         \n",
        "        print(\"vertex \" + str(x), end = ' ')\n",
        "         \n",
        "        for x in adj[x]:\n",
        "            print(\": \" + str(x), end = '')\n",
        "             \n",
        "        print()\n",
        "    print()\n",
        "     \n",
        "# Driver code\n",
        "if __name__=='__main__':\n",
        " \n",
        "    V = 5;\n",
        "    adj = [[] for i in range(V)]\n",
        "  \n",
        "    # Adding edge as shown in the example figure\n",
        "    addEdge(adj, 0, 1);\n",
        "    addEdge(adj, 0, 4);\n",
        "    addEdge(adj, 1, 2);\n",
        "    addEdge(adj, 1, 3);\n",
        "    addEdge(adj, 1, 4);\n",
        "    addEdge(adj, 2, 3);\n",
        "    addEdge(adj, 3, 4);\n",
        "  \n",
        "    # Print adjacency matrix\n",
        "    prGraph(adj, V);\n",
        "  \n",
        " "
      ]
    },
    {
      "cell_type": "code",
      "source": [
        "# Function to insert vertices\n",
        "# to adjacency list\n",
        "def insert(adj, u, v):\n",
        "\n",
        "\t# Insert a vertex v to vertex u\n",
        "\tadj[u].append(v)\n",
        "\treturn\n",
        "\n",
        "\n",
        "def convert(adj, V):\n",
        "\n",
        "\t# Initialize a matrix\n",
        "\tmatrix = [[0 for j in range(V)]\n",
        "\t\t\t\tfor i in range(V)]\n",
        "\t\n",
        "\tfor i in range(V):\n",
        "\t\tfor j in adj[i]:\n",
        "\t\t\tmatrix[i][j] = 1\n",
        "\t\n",
        "\treturn matrix\n",
        "\n",
        "# Function to display adjacency matrix\n",
        "def printMatrix(adj, V):\n",
        "\t\n",
        "\tfor i in range(V):\n",
        "\t\tfor j in range(V):\n",
        "\t\t\tprint(adj[i][j], end = ' ')\n",
        "\t\t\t\n",
        "\t\tprint()\n",
        "\t\t\n",
        "\tprint()\n",
        "\t\t\n",
        "# Driver code\n",
        "if __name__=='__main__':\n",
        "\n",
        "\tV = 5\n",
        "\n",
        "\tadjList = [[] for i in range(V)]\n",
        "\n",
        "\t# Inserting edges\n",
        "\tinsert(adjList, 0, 1)\n",
        "\tinsert(adjList, 0, 4)\n",
        "\tinsert(adjList, 1, 0)\n",
        "\tinsert(adjList, 1, 2)\n",
        "\tinsert(adjList, 1, 3)\n",
        "\tinsert(adjList, 1, 4)\n",
        "\tinsert(adjList, 2, 1)\n",
        "\tinsert(adjList, 2, 3)\n",
        "\tinsert(adjList, 3, 1)\n",
        "\tinsert(adjList, 3, 2)\n",
        "\tinsert(adjList, 3, 4)\n",
        "\tinsert(adjList, 4, 0)\n",
        "\tinsert(adjList, 4, 1)\n",
        "\tinsert(adjList, 4, 3)\n",
        "\n",
        "\n",
        "\t# Function call which returns\n",
        "\t# adjacency matrix after conversion\n",
        "\tadjMatrix = convert(adjList, V)\n",
        "\n",
        "\t# Display adjacency matrix\n",
        "\tprint(\"Adjacency Matrix: \")\n",
        "\tprintMatrix(adjMatrix, V)\n",
        "\n"
      ],
      "metadata": {
        "colab": {
          "base_uri": "https://localhost:8080/"
        },
        "id": "eGX_e4GvL8ZW",
        "outputId": "712f9349-5a85-4c99-85fd-d73c4413f878"
      },
      "id": "eGX_e4GvL8ZW",
      "execution_count": 82,
      "outputs": [
        {
          "output_type": "stream",
          "name": "stdout",
          "text": [
            "Adjacency Matrix: \n",
            "0 1 0 0 1 \n",
            "1 0 1 1 1 \n",
            "0 1 0 1 0 \n",
            "0 1 1 0 1 \n",
            "1 1 0 1 0 \n",
            "\n"
          ]
        }
      ]
    },
    {
      "cell_type": "markdown",
      "id": "spatial-howard",
      "metadata": {
        "id": "spatial-howard"
      },
      "source": [
        "## Graph Traversal\n",
        "\n",
        "\n",
        "### Breadth-First Search\n",
        "\n",
        "A real-world graph:\n",
        "\n",
        "![](https://upload.wikimedia.org/wikipedia/commons/thumb/a/ad/MapGermanyGraph.svg/500px-MapGermanyGraph.svg.png)\n",
        "\n",
        "Breadth-fist search tree (starting from Frankfurt):\n",
        "\n",
        "![](https://upload.wikimedia.org/wikipedia/commons/thumb/6/63/GermanyBFS.svg/500px-GermanyBFS.svg.png)\n",
        "\n",
        "> **Question**: Implement breadth-first search given a source node in a graph using Python.\n",
        "\n",
        "\n",
        "<img src=\"https://i.imgur.com/E2Up1Pk.png\" width=\"400\">\n",
        "\n",
        "BFS pseudocode (Wikipedia):\n",
        "\n",
        "```\n",
        " 1  procedure BFS(G, root) is\n",
        " 2      let Q be a queue\n",
        " 3      label root as discovered\n",
        " 4      Q.enqueue(root)\n",
        " 5      while Q is not empty do\n",
        " 6          v := Q.dequeue()\n",
        " 7          \n",
        " 9          for all edges from v to w in G.adjacentEdges(v) do\n",
        "10              if w is not labeled as discovered then\n",
        "11                  label w as discovered\n",
        "12                  Q.enqueue(w)\n",
        "```\n",
        "\n"
      ]
    },
    {
      "cell_type": "code",
      "execution_count": 83,
      "id": "electoral-religious",
      "metadata": {
        "id": "electoral-religious",
        "colab": {
          "base_uri": "https://localhost:8080/"
        },
        "outputId": "6226a460-da54-4169-c2d1-ca47e0a2f9c0"
      },
      "outputs": [
        {
          "output_type": "stream",
          "name": "stdout",
          "text": [
            "Breadth-First Search\n",
            "4 0 1 3 2 "
          ]
        }
      ],
      "source": [
        "graph = {\n",
        "  '0' : ['1','4'],\n",
        "  '1' : ['0', '2','3','4'],\n",
        "  '2' : ['1','3'],\n",
        "  '3' : ['1','2','4'],\n",
        "  '4' : ['0','1','3'],\n",
        " }\n",
        "\n",
        "visited = [] # List  visited nodes.\n",
        "queue = []     # queue\n",
        "\n",
        "def bfs(visited, graph, node): \n",
        "  visited.append(node)\n",
        "  queue.append(node)\n",
        "\n",
        "  while queue:          \n",
        "    m = queue.pop(0) \n",
        "    print (m, end = \" \") \n",
        "\n",
        "    for neighbour in graph[m]:\n",
        "      if neighbour not in visited:\n",
        "        visited.append(neighbour)\n",
        "        queue.append(neighbour)\n",
        "\n",
        "print(\"Breadth-First Search\")\n",
        "bfs(visited, graph, '4')    # function"
      ]
    },
    {
      "cell_type": "markdown",
      "id": "czech-encounter",
      "metadata": {
        "id": "czech-encounter"
      },
      "source": [
        "<img src=\"https://cdn.programiz.com/sites/tutorial2program/files/queue-implementation.png\" width=\"400\">"
      ]
    },
    {
      "cell_type": "code",
      "execution_count": 84,
      "id": "abstract-gibraltar",
      "metadata": {
        "id": "abstract-gibraltar"
      },
      "outputs": [],
      "source": [
        "import jovian"
      ]
    },
    {
      "cell_type": "code",
      "execution_count": 85,
      "id": "portuguese-consequence",
      "metadata": {
        "id": "portuguese-consequence",
        "outputId": "3afe24be-20c9-4528-cb81-5b02598c8d6b",
        "colab": {
          "base_uri": "https://localhost:8080/",
          "height": 89
        }
      },
      "outputs": [
        {
          "output_type": "stream",
          "name": "stdout",
          "text": [
            "[jovian] Detected Colab notebook...\u001b[0m\n",
            "[jovian] Uploading colab notebook to Jovian...\u001b[0m\n",
            "Committed successfully! https://jovian.ai/nikhil-lokhande/python-graph-algorithms\n"
          ]
        },
        {
          "output_type": "execute_result",
          "data": {
            "application/vnd.google.colaboratory.intrinsic+json": {
              "type": "string"
            },
            "text/plain": [
              "'https://jovian.ai/nikhil-lokhande/python-graph-algorithms'"
            ]
          },
          "metadata": {},
          "execution_count": 85
        }
      ],
      "source": [
        "jovian.commit()"
      ]
    },
    {
      "cell_type": "markdown",
      "id": "synthetic-defense",
      "metadata": {
        "id": "synthetic-defense"
      },
      "source": [
        "> **Question**: Write a program to check if all the nodes in a graph are connected\n",
        "\n",
        "![](http://www.martinbroadhurst.com/images/connected_components.png)"
      ]
    },
    {
      "cell_type": "code",
      "execution_count": 86,
      "id": "premium-cincinnati",
      "metadata": {
        "id": "premium-cincinnati",
        "outputId": "d59440b2-686e-4d22-f9c0-9b7c079fc509",
        "colab": {
          "base_uri": "https://localhost:8080/"
        }
      },
      "outputs": [
        {
          "output_type": "execute_result",
          "data": {
            "text/plain": [
              "(9, 8)"
            ]
          },
          "metadata": {},
          "execution_count": 86
        }
      ],
      "source": [
        "num_nodes3 = 9\n",
        "edges3 = [(0, 1), (0, 3), (1, 2), (2, 3), (4, 5), (4, 6), (5, 6), (7, 8)]\n",
        "num_nodes3, len(edges3)"
      ]
    },
    {
      "cell_type": "code",
      "execution_count": 86,
      "id": "dominican-louisville",
      "metadata": {
        "id": "dominican-louisville"
      },
      "outputs": [],
      "source": [
        ""
      ]
    },
    {
      "cell_type": "code",
      "execution_count": 86,
      "id": "agreed-damage",
      "metadata": {
        "id": "agreed-damage"
      },
      "outputs": [],
      "source": [
        ""
      ]
    },
    {
      "cell_type": "code",
      "execution_count": 86,
      "id": "greatest-selection",
      "metadata": {
        "id": "greatest-selection"
      },
      "outputs": [],
      "source": [
        ""
      ]
    },
    {
      "cell_type": "code",
      "execution_count": 86,
      "id": "proper-personality",
      "metadata": {
        "id": "proper-personality"
      },
      "outputs": [],
      "source": [
        ""
      ]
    },
    {
      "cell_type": "markdown",
      "id": "parliamentary-veteran",
      "metadata": {
        "id": "parliamentary-veteran"
      },
      "source": [
        "## Depth-first search\n",
        "\n",
        "![](https://upload.wikimedia.org/wikipedia/commons/thumb/7/7f/Depth-First-Search.gif/440px-Depth-First-Search.gif)\n",
        "\n",
        "\n",
        "> **Question**: Implement depth first search from a given node in a graph using Python.\n",
        "\n",
        "<img src=\"https://i.imgur.com/E2Up1Pk.png\" width=\"400\">\n",
        "\n",
        "DFS pseudocode (Wikipedia):\n",
        "\n",
        "```\n",
        "procedure DFS_iterative(G, v) is\n",
        "    let S be a stack\n",
        "    S.push(v)\n",
        "    while S is not empty do\n",
        "        v = S.pop()\n",
        "        if v is not labeled as discovered then\n",
        "            label v as discovered\n",
        "            for all edges from v to w in G.adjacentEdges(v) do \n",
        "                S.push(w)\n",
        "```\n",
        "\n",
        "\n"
      ]
    },
    {
      "cell_type": "markdown",
      "id": "descending-amber",
      "metadata": {
        "id": "descending-amber"
      },
      "source": [
        "<img src=\"https://cdn.programiz.com/sites/tutorial2program/files/stack.png\" width=\"400\">"
      ]
    },
    {
      "cell_type": "code",
      "execution_count": 87,
      "id": "informal-christmas",
      "metadata": {
        "id": "informal-christmas"
      },
      "outputs": [],
      "source": [
        "def dfs(graph, source):\n",
        "    stack = [source]\n",
        "    visited = [False] * len(graph.data)\n",
        "    result = []\n",
        "    while len(stack) > 0:\n",
        "        current = stack.pop()\n",
        "        if not visited[current]:\n",
        "            result.append(current)\n",
        "        visited[current] = True\n",
        "        for v in graph.data[current]:\n",
        "            if not visited[v]:\n",
        "                stack.append(v)\n",
        "        \n",
        "    return result"
      ]
    },
    {
      "cell_type": "code",
      "execution_count": 88,
      "id": "arabic-machine",
      "metadata": {
        "id": "arabic-machine",
        "colab": {
          "base_uri": "https://localhost:8080/"
        },
        "outputId": "c5872773-ae2e-4624-9317-848eb82f0702"
      },
      "outputs": [
        {
          "output_type": "execute_result",
          "data": {
            "text/plain": [
              "[[], [], [], [], []]"
            ]
          },
          "metadata": {},
          "execution_count": 88
        }
      ],
      "source": [
        "n_vertices = 5\n",
        "[[] for _ in range(n_vertices)]"
      ]
    },
    {
      "cell_type": "code",
      "execution_count": 89,
      "id": "forward-department",
      "metadata": {
        "id": "forward-department"
      },
      "outputs": [],
      "source": [
        "n = 5\n",
        "vertices = [(0,1),(1,2),(1,3),(1,4),(2,3),(3,4),(4,0)]"
      ]
    },
    {
      "cell_type": "code",
      "execution_count": 90,
      "id": "contained-version",
      "metadata": {
        "id": "contained-version"
      },
      "outputs": [],
      "source": [
        "class Graph:\n",
        "    def __init__(self, n_vertices, edges):\n",
        "        self.data = [[] for _ in range(n_vertices)]\n",
        "        for v1, v2 in edges:\n",
        "            self.data[v1].append(v2)\n",
        "            self.data[v2].append(v1)\n",
        "            \n",
        "    def __repr__(self):\n",
        "        result = ''\n",
        "        for i, nodes in enumerate(self.data):\n",
        "            result += str(i) + \":\" + str(nodes) + \"\\n\"\n",
        "        return result\n",
        "            \n",
        "    def __str__(self):\n",
        "        self.__repr__()"
      ]
    },
    {
      "cell_type": "code",
      "source": [
        "graph1 = Graph(n, vertices)"
      ],
      "metadata": {
        "id": "V4LSpYe2iGPF"
      },
      "id": "V4LSpYe2iGPF",
      "execution_count": 91,
      "outputs": []
    },
    {
      "cell_type": "code",
      "source": [
        "graph1"
      ],
      "metadata": {
        "colab": {
          "base_uri": "https://localhost:8080/"
        },
        "id": "0l9gNc6qiJ9-",
        "outputId": "f6001084-420a-4db9-fee0-755ade15cbf7"
      },
      "id": "0l9gNc6qiJ9-",
      "execution_count": 92,
      "outputs": [
        {
          "output_type": "execute_result",
          "data": {
            "text/plain": [
              "0:[1, 4]\n",
              "1:[0, 2, 3, 4]\n",
              "2:[1, 3]\n",
              "3:[1, 2, 4]\n",
              "4:[1, 3, 0]"
            ]
          },
          "metadata": {},
          "execution_count": 92
        }
      ]
    },
    {
      "cell_type": "code",
      "source": [
        "dfs(graph1, 0)"
      ],
      "metadata": {
        "colab": {
          "base_uri": "https://localhost:8080/"
        },
        "id": "c_3D46oOiPy5",
        "outputId": "6ec91856-8d11-4a1e-bd79-93ade0637990"
      },
      "id": "c_3D46oOiPy5",
      "execution_count": 93,
      "outputs": [
        {
          "output_type": "execute_result",
          "data": {
            "text/plain": [
              "[0, 4, 3, 2, 1]"
            ]
          },
          "metadata": {},
          "execution_count": 93
        }
      ]
    },
    {
      "cell_type": "code",
      "source": [
        "n = 10\n",
        "edges = [(0,1),(0,2),(0,3),(1,4),(2,5),(2,6),(3,7),(4,8),(5,9)]\n",
        "n, len(edges)"
      ],
      "metadata": {
        "colab": {
          "base_uri": "https://localhost:8080/"
        },
        "id": "1sIy_m97iP2P",
        "outputId": "24e995d1-9f19-4747-bc76-10d6522c1be5"
      },
      "id": "1sIy_m97iP2P",
      "execution_count": 94,
      "outputs": [
        {
          "output_type": "execute_result",
          "data": {
            "text/plain": [
              "(10, 9)"
            ]
          },
          "metadata": {},
          "execution_count": 94
        }
      ]
    },
    {
      "cell_type": "code",
      "source": [
        "graph2 = Graph(n, edges)\n",
        "graph2"
      ],
      "metadata": {
        "colab": {
          "base_uri": "https://localhost:8080/"
        },
        "id": "ywrv25dkizcq",
        "outputId": "37a33168-11f2-48fa-f4c1-ad35084bc17e"
      },
      "id": "ywrv25dkizcq",
      "execution_count": 95,
      "outputs": [
        {
          "output_type": "execute_result",
          "data": {
            "text/plain": [
              "0:[1, 2, 3]\n",
              "1:[0, 4]\n",
              "2:[0, 5, 6]\n",
              "3:[0, 7]\n",
              "4:[1, 8]\n",
              "5:[2, 9]\n",
              "6:[2]\n",
              "7:[3]\n",
              "8:[4]\n",
              "9:[5]"
            ]
          },
          "metadata": {},
          "execution_count": 95
        }
      ]
    },
    {
      "cell_type": "code",
      "source": [
        "dfs(graph2, 0)"
      ],
      "metadata": {
        "colab": {
          "base_uri": "https://localhost:8080/"
        },
        "id": "MXx0UofNizfu",
        "outputId": "5fcfd2c3-2ec0-483f-a9b6-afa2b569943f"
      },
      "id": "MXx0UofNizfu",
      "execution_count": 96,
      "outputs": [
        {
          "output_type": "execute_result",
          "data": {
            "text/plain": [
              "[0, 3, 7, 2, 6, 5, 9, 1, 4, 8]"
            ]
          },
          "metadata": {},
          "execution_count": 96
        }
      ]
    },
    {
      "cell_type": "code",
      "execution_count": 97,
      "id": "lesser-opinion",
      "metadata": {
        "id": "lesser-opinion"
      },
      "outputs": [],
      "source": [
        "import jovian"
      ]
    },
    {
      "cell_type": "code",
      "execution_count": 98,
      "id": "hungry-increase",
      "metadata": {
        "id": "hungry-increase",
        "outputId": "8bf9a976-a708-4651-c2e8-a74cac6d0079",
        "colab": {
          "base_uri": "https://localhost:8080/",
          "height": 89
        }
      },
      "outputs": [
        {
          "output_type": "stream",
          "name": "stdout",
          "text": [
            "[jovian] Detected Colab notebook...\u001b[0m\n",
            "[jovian] Uploading colab notebook to Jovian...\u001b[0m\n",
            "Committed successfully! https://jovian.ai/nikhil-lokhande/python-graph-algorithms\n"
          ]
        },
        {
          "output_type": "execute_result",
          "data": {
            "application/vnd.google.colaboratory.intrinsic+json": {
              "type": "string"
            },
            "text/plain": [
              "'https://jovian.ai/nikhil-lokhande/python-graph-algorithms'"
            ]
          },
          "metadata": {},
          "execution_count": 98
        }
      ],
      "source": [
        "jovian.commit()"
      ]
    },
    {
      "cell_type": "markdown",
      "id": "together-blogger",
      "metadata": {
        "id": "together-blogger"
      },
      "source": [
        "> **Question**: Write a function to detect a cycle in a graph\n",
        "\n",
        "![](https://tutorialspoint.dev/image/cycleGraph.png)"
      ]
    },
    {
      "cell_type": "code",
      "source": [
        "num_nodes = 5\n",
        "edges = [(1,0), (1,2), (2,0), (0,3), (3,4)]\n",
        "cyc_und_g = Graph(num_nodes, edges)"
      ],
      "metadata": {
        "id": "-UytpYYr4mnc"
      },
      "id": "-UytpYYr4mnc",
      "execution_count": 99,
      "outputs": []
    },
    {
      "cell_type": "code",
      "source": [
        "cyc_und_g"
      ],
      "metadata": {
        "colab": {
          "base_uri": "https://localhost:8080/"
        },
        "id": "bOPGIsNs4pya",
        "outputId": "087e84d4-6630-4789-95ab-64eb19f5af1a"
      },
      "id": "bOPGIsNs4pya",
      "execution_count": 100,
      "outputs": [
        {
          "output_type": "execute_result",
          "data": {
            "text/plain": [
              "0:[1, 2, 3]\n",
              "1:[0, 2]\n",
              "2:[1, 0]\n",
              "3:[0, 4]\n",
              "4:[3]"
            ]
          },
          "metadata": {},
          "execution_count": 100
        }
      ]
    },
    {
      "cell_type": "markdown",
      "id": "broke-carroll",
      "metadata": {
        "id": "broke-carroll"
      },
      "source": [
        "### Weighted Graphs\n",
        "\n",
        "![](https://i.imgur.com/wy7ZHRW.png)\n",
        "\n"
      ]
    },
    {
      "cell_type": "code",
      "execution_count": 101,
      "id": "eligible-equipment",
      "metadata": {
        "id": "eligible-equipment",
        "outputId": "8661c124-7ccf-415d-d374-439d5e745923",
        "colab": {
          "base_uri": "https://localhost:8080/"
        }
      },
      "outputs": [
        {
          "output_type": "execute_result",
          "data": {
            "text/plain": [
              "(9, 10)"
            ]
          },
          "metadata": {},
          "execution_count": 101
        }
      ],
      "source": [
        "# Graph with weights\n",
        "num_nodes5 = 9\n",
        "edges5 = [(0, 1, 3), (0, 3, 2), (0, 8, 4), (1, 7, 4), (2, 7, 2), (2, 3, 6), \n",
        "          (2, 5, 1), (3, 4, 1), (4, 8, 8), (5, 6, 8)]\n",
        "\n",
        "num_nodes5, len(edges5)"
      ]
    },
    {
      "cell_type": "markdown",
      "id": "abstract-return",
      "metadata": {
        "id": "abstract-return"
      },
      "source": [
        "### Directed Graphs\n",
        "\n",
        "<img src=\"https://i.imgur.com/8AN7EUV.png\" width=\"480\">"
      ]
    },
    {
      "cell_type": "code",
      "execution_count": 102,
      "id": "fitted-kruger",
      "metadata": {
        "id": "fitted-kruger",
        "outputId": "b73b13de-4fff-4700-babb-934249a4ed76",
        "colab": {
          "base_uri": "https://localhost:8080/"
        }
      },
      "outputs": [
        {
          "output_type": "execute_result",
          "data": {
            "text/plain": [
              "(5, 6)"
            ]
          },
          "metadata": {},
          "execution_count": 102
        }
      ],
      "source": [
        "num_nodes6 = 5\n",
        "edges6 = [(0, 1), (1, 2), (2, 3), (2, 4), (4, 2), (3, 0)]\n",
        "num_nodes6, len(edges6)"
      ]
    },
    {
      "cell_type": "markdown",
      "id": "saved-pittsburgh",
      "metadata": {
        "id": "saved-pittsburgh"
      },
      "source": [
        "> **Question**: Define a class to represent weighted and directed graphs in Python."
      ]
    },
    {
      "cell_type": "code",
      "execution_count": 103,
      "id": "affected-essence",
      "metadata": {
        "id": "affected-essence"
      },
      "outputs": [],
      "source": [
        "class Graph:\n",
        "    def __init__(self, n, edges, directed=False):\n",
        "        self.data = [[] for _ in range(n)]\n",
        "        self.weight = [[] for _ in range(n)]\n",
        "        for e in edges:\n",
        "            if len(e) == 3:\n",
        "                v1, v2, w = e\n",
        "                self.data[v1].append(v2)\n",
        "                self.weight[v1].append(w)\n",
        "                if not directed:\n",
        "                    self.data[v2].append(v1)\n",
        "                    self.data[v2].append(w)\n",
        "            else:\n",
        "                v1, v2 = e\n",
        "                self.data[v1].append(v2)\n",
        "                if not directed:\n",
        "                    self.data[v2].append(v1)\n",
        "                        \n",
        "    def __repr__(self):\n",
        "        result = ''\n",
        "        for i, (nodes, weights) in enumerate(zip(self.data, self.weight)):\n",
        "            result += str(i) + \":\" + str(list(zip(nodes, weights))) + \"\\n\"\n",
        "        return result\n",
        "            \n",
        "    def __str__(self):\n",
        "        self.__repr__()"
      ]
    },
    {
      "cell_type": "code",
      "execution_count": 104,
      "id": "promotional-fiction",
      "metadata": {
        "id": "promotional-fiction"
      },
      "outputs": [],
      "source": [
        "graph3 = Graph(num_nodes5, edges5, directed=True)"
      ]
    },
    {
      "cell_type": "code",
      "execution_count": 105,
      "id": "virgin-impact",
      "metadata": {
        "id": "virgin-impact",
        "colab": {
          "base_uri": "https://localhost:8080/"
        },
        "outputId": "9a4623f9-f1d7-4aee-a124-45bdc59b72fb"
      },
      "outputs": [
        {
          "output_type": "execute_result",
          "data": {
            "text/plain": [
              "0:[(1, 3), (3, 2), (8, 4)]\n",
              "1:[(7, 4)]\n",
              "2:[(7, 2), (3, 6), (5, 1)]\n",
              "3:[(4, 1)]\n",
              "4:[(8, 8)]\n",
              "5:[(6, 8)]\n",
              "6:[]\n",
              "7:[]\n",
              "8:[]"
            ]
          },
          "metadata": {},
          "execution_count": 105
        }
      ],
      "source": [
        "graph3"
      ]
    },
    {
      "cell_type": "code",
      "source": [
        "class Graph:\n",
        "    def __init__(self, num_nodes, edges, directed=False, weighted=False):\n",
        "        self.num_nodes = num_nodes\n",
        "        self.directed = directed\n",
        "        self.weighted = weighted\n",
        "        self.data = [[] for _ in range(num_nodes)]\n",
        "        self.weight = [[] for _ in range(num_nodes)]\n",
        "        for edge in edges:\n",
        "            if self.weighted:\n",
        "                node1, node2, weight = edge\n",
        "                self.data[node1].append(node2)\n",
        "                self.weight[node1].append(weight)\n",
        "                if not directed:\n",
        "                    self.data[node2].append(node1)\n",
        "                    self.weight[node2].append(weight)\n",
        "            else:\n",
        "                node1, node2 = edge\n",
        "                self.data[node1].append(node2)\n",
        "                if not directed:\n",
        "                    self.data[node2].append(node1)\n",
        "            \n",
        "    def __repr__(self):\n",
        "        result = \"\"\n",
        "        if self.weighted:\n",
        "            for i, (nodes, weights) in enumerate(zip(self.data, self.weight)):\n",
        "                result += \"{}: {}\\n\".format(i, list(zip(nodes, weights)))\n",
        "        else:\n",
        "            for i, nodes in enumerate(self.data):\n",
        "                result += \"{}: {}\\n\".format(i, nodes)\n",
        "            \n",
        "        return result"
      ],
      "metadata": {
        "id": "wjB90mdetyTq"
      },
      "id": "wjB90mdetyTq",
      "execution_count": 106,
      "outputs": []
    },
    {
      "cell_type": "code",
      "source": [
        "graph1"
      ],
      "metadata": {
        "colab": {
          "base_uri": "https://localhost:8080/"
        },
        "id": "5oUq_Vle1_w2",
        "outputId": "f4320be3-39f3-4d60-a739-cf0e69656253"
      },
      "id": "5oUq_Vle1_w2",
      "execution_count": 107,
      "outputs": [
        {
          "output_type": "execute_result",
          "data": {
            "text/plain": [
              "0:[1, 4]\n",
              "1:[0, 2, 3, 4]\n",
              "2:[1, 3]\n",
              "3:[1, 2, 4]\n",
              "4:[1, 3, 0]"
            ]
          },
          "metadata": {},
          "execution_count": 107
        }
      ]
    },
    {
      "cell_type": "code",
      "source": [
        "# Graph with weights\n",
        "num_nodes5 = 9\n",
        "edges5 = [(0, 1, 3), (0, 3, 2), (0, 8, 4), (1, 7, 4), (2, 7, 2), (2, 3, 6), \n",
        "          (2, 5, 1), (3, 4, 1), (4, 8, 8), (5, 6, 8)]\n",
        "\n",
        "num_nodes5, len(edges5)"
      ],
      "metadata": {
        "colab": {
          "base_uri": "https://localhost:8080/"
        },
        "id": "NEoK4Sdu0q9C",
        "outputId": "5fdebd2e-262b-45e2-d3f8-a09218efefdd"
      },
      "id": "NEoK4Sdu0q9C",
      "execution_count": 108,
      "outputs": [
        {
          "output_type": "execute_result",
          "data": {
            "text/plain": [
              "(9, 10)"
            ]
          },
          "metadata": {},
          "execution_count": 108
        }
      ]
    },
    {
      "cell_type": "code",
      "source": [
        "graph5 = Graph(num_nodes5, edges5, weighted=True)\n",
        "graph5"
      ],
      "metadata": {
        "colab": {
          "base_uri": "https://localhost:8080/"
        },
        "id": "oHQ6s3D80q_j",
        "outputId": "b0e7703a-375c-410b-b4c1-5c34e9113326"
      },
      "id": "oHQ6s3D80q_j",
      "execution_count": 109,
      "outputs": [
        {
          "output_type": "execute_result",
          "data": {
            "text/plain": [
              "0: [(1, 3), (3, 2), (8, 4)]\n",
              "1: [(0, 3), (7, 4)]\n",
              "2: [(7, 2), (3, 6), (5, 1)]\n",
              "3: [(0, 2), (2, 6), (4, 1)]\n",
              "4: [(3, 1), (8, 8)]\n",
              "5: [(2, 1), (6, 8)]\n",
              "6: [(5, 8)]\n",
              "7: [(1, 4), (2, 2)]\n",
              "8: [(0, 4), (4, 8)]"
            ]
          },
          "metadata": {},
          "execution_count": 109
        }
      ]
    },
    {
      "cell_type": "code",
      "execution_count": 110,
      "id": "exempt-stone",
      "metadata": {
        "id": "exempt-stone"
      },
      "outputs": [],
      "source": [
        "import jovian"
      ]
    },
    {
      "cell_type": "code",
      "execution_count": 111,
      "id": "chronic-uzbekistan",
      "metadata": {
        "id": "chronic-uzbekistan",
        "outputId": "2ee6e45b-ce67-4986-882f-e98b243946fc",
        "colab": {
          "base_uri": "https://localhost:8080/",
          "height": 89
        }
      },
      "outputs": [
        {
          "output_type": "stream",
          "name": "stdout",
          "text": [
            "[jovian] Detected Colab notebook...\u001b[0m\n",
            "[jovian] Uploading colab notebook to Jovian...\u001b[0m\n",
            "Committed successfully! https://jovian.ai/nikhil-lokhande/python-graph-algorithms\n"
          ]
        },
        {
          "output_type": "execute_result",
          "data": {
            "application/vnd.google.colaboratory.intrinsic+json": {
              "type": "string"
            },
            "text/plain": [
              "'https://jovian.ai/nikhil-lokhande/python-graph-algorithms'"
            ]
          },
          "metadata": {},
          "execution_count": 111
        }
      ],
      "source": [
        "jovian.commit()"
      ]
    },
    {
      "cell_type": "markdown",
      "id": "posted-peripheral",
      "metadata": {
        "id": "posted-peripheral"
      },
      "source": [
        "## Shortest Paths\n",
        "\n",
        "\n",
        "> **Question**: Write a function to find the length of the shortest path between two nodes in a weighted directed graph.\n",
        "\n",
        "<img src=\"https://i.imgur.com/Zn5cUkO.png\" width=\"480\">\n",
        "\n",
        "\n",
        "**Dijkstra's algorithm (Wikipedia)**:\n",
        "\n",
        "![](https://upload.wikimedia.org/wikipedia/commons/5/57/Dijkstra_Animation.gif)\n",
        "\n",
        "1. Mark all nodes unvisited. Create a set of all the unvisited nodes called the unvisited set.\n",
        "2. Assign to every node a tentative distance value: set it to zero for our initial node and to infinity for all other nodes. Set the initial node as current.[16]\n",
        "3. For the current node, consider all of its unvisited neighbours and calculate their tentative distances through the current node. Compare the newly calculated tentative distance to the current assigned value and assign the smaller one. For example, if the current node A is marked with a distance of 6, and the edge connecting it with a neighbour B has length 2, then the distance to B through A will be 6 + 2 = 8. If B was previously marked with a distance greater than 8 then change it to 8. Otherwise, the current value will be kept.\n",
        "4. When we are done considering all of the unvisited neighbours of the current node, mark the current node as visited and remove it from the unvisited set. A visited node will never be checked again.\n",
        "5. If the destination node has been marked visited (when planning a route between two specific nodes) or if the smallest tentative distance among the nodes in the unvisited set is infinity (when planning a complete traversal; occurs when there is no connection between the initial node and remaining unvisited nodes), then stop. The algorithm has finished.\n",
        "6. Otherwise, select the unvisited node that is marked with the smallest tentative distance, set it as the new \"current node\", and go back to step 3."
      ]
    },
    {
      "cell_type": "code",
      "execution_count": 112,
      "id": "certain-today",
      "metadata": {
        "id": "certain-today"
      },
      "outputs": [],
      "source": [
        "def update_distances(graph, current, distance, parent=None):\n",
        "    \"\"\"Update the distances of the current node's neighbors\"\"\"\n",
        "    neighbors = graph.data[current]\n",
        "    weights = graph.weight[current]\n",
        "    for i, node in enumerate(neighbors):\n",
        "        weight = weights[i]\n",
        "        if distance[current] + weight < distance[node]:\n",
        "            distance[node] = distance[current] + weight\n",
        "            if parent:\n",
        "                parent[node] = current\n",
        "\n",
        "def pick_next_node(distance, visited):\n",
        "    \"\"\"Pick the next univisited node at the smallest distance\"\"\"\n",
        "    min_distance = float('inf')\n",
        "    min_node = None\n",
        "    for node in range(len(distance)):\n",
        "        if not visited[node] and distance[node] < min_distance:\n",
        "            min_node = node\n",
        "            min_distance = distance[node]\n",
        "    return min_node"
      ]
    },
    {
      "cell_type": "code",
      "execution_count": 113,
      "id": "adopted-creek",
      "metadata": {
        "id": "adopted-creek",
        "outputId": "021d9ef1-ee8a-47ed-ac21-0270a8e75c93",
        "colab": {
          "base_uri": "https://localhost:8080/"
        }
      },
      "outputs": [
        {
          "output_type": "execute_result",
          "data": {
            "text/plain": [
              "(6, 7)"
            ]
          },
          "metadata": {},
          "execution_count": 113
        }
      ],
      "source": [
        "num_nodes7 = 6\n",
        "edges7 = [(0, 1, 4), (0, 2, 2), (1, 2, 5), (1, 3, 10), (2, 4, 3), (4, 3, 4), (3, 5, 11)]\n",
        "num_nodes7, len(edges7)"
      ]
    },
    {
      "cell_type": "code",
      "execution_count": 114,
      "id": "foreign-malpractice",
      "metadata": {
        "id": "foreign-malpractice"
      },
      "outputs": [],
      "source": [
        "import jovian"
      ]
    },
    {
      "cell_type": "code",
      "execution_count": 115,
      "id": "reserved-investor",
      "metadata": {
        "id": "reserved-investor",
        "outputId": "f19d0319-6a05-4702-e818-10763eee76e8",
        "colab": {
          "base_uri": "https://localhost:8080/",
          "height": 89
        }
      },
      "outputs": [
        {
          "output_type": "stream",
          "name": "stdout",
          "text": [
            "[jovian] Detected Colab notebook...\u001b[0m\n",
            "[jovian] Uploading colab notebook to Jovian...\u001b[0m\n",
            "Committed successfully! https://jovian.ai/nikhil-lokhande/python-graph-algorithms\n"
          ]
        },
        {
          "output_type": "execute_result",
          "data": {
            "application/vnd.google.colaboratory.intrinsic+json": {
              "type": "string"
            },
            "text/plain": [
              "'https://jovian.ai/nikhil-lokhande/python-graph-algorithms'"
            ]
          },
          "metadata": {},
          "execution_count": 115
        }
      ],
      "source": [
        "jovian.commit()"
      ]
    },
    {
      "cell_type": "markdown",
      "id": "coordinate-circle",
      "metadata": {
        "id": "coordinate-circle"
      },
      "source": [
        "### Binary Heap\n",
        "\n",
        "A data structure to maintain the running minimum/maximum of a set of numbers, supporting efficient addition/removal.\n",
        "\n",
        "\n",
        "<img src=\"https://i.imgur.com/ABAcM7m.png\" width=\"400\">\n",
        "\n",
        "\n",
        "Heap operations:\n",
        "\n",
        "- Insertion - $O(log N)$\n",
        "- Min/Max - $O(1)$ (depending on type of heap)\n",
        "- Deletion - $O(log N)$\n",
        "- Convert a list to a heap - $O(n)$\n",
        "\n",
        "\n",
        "Python's built-in heap: https://docs.python.org/3/library/heapq.html\n",
        "\n",
        "> **Question**: Implement Dijkstra's shortest path algorithm using the `heap` module from Python. What is the complexity of the algorithm?"
      ]
    },
    {
      "cell_type": "markdown",
      "id": "pointed-diabetes",
      "metadata": {
        "id": "pointed-diabetes"
      },
      "source": [
        "### More Problems\n",
        "\n",
        "Solve more graph problems here: https://leetcode.com/tag/graph/"
      ]
    },
    {
      "cell_type": "code",
      "execution_count": 116,
      "id": "banner-canadian",
      "metadata": {
        "id": "banner-canadian"
      },
      "outputs": [],
      "source": [
        "import jovian"
      ]
    },
    {
      "cell_type": "code",
      "execution_count": 117,
      "id": "union-chambers",
      "metadata": {
        "id": "union-chambers",
        "outputId": "4a16ec22-d6ef-4228-fd4b-854c8bea6b12",
        "colab": {
          "base_uri": "https://localhost:8080/",
          "height": 89
        }
      },
      "outputs": [
        {
          "output_type": "stream",
          "name": "stdout",
          "text": [
            "[jovian] Detected Colab notebook...\u001b[0m\n",
            "[jovian] Uploading colab notebook to Jovian...\u001b[0m\n",
            "Committed successfully! https://jovian.ai/nikhil-lokhande/python-graph-algorithms\n"
          ]
        },
        {
          "output_type": "execute_result",
          "data": {
            "application/vnd.google.colaboratory.intrinsic+json": {
              "type": "string"
            },
            "text/plain": [
              "'https://jovian.ai/nikhil-lokhande/python-graph-algorithms'"
            ]
          },
          "metadata": {},
          "execution_count": 117
        }
      ],
      "source": [
        "jovian.commit()"
      ]
    },
    {
      "cell_type": "markdown",
      "id": "ethical-marathon",
      "metadata": {
        "id": "ethical-marathon"
      },
      "source": [
        "## Solutions\n",
        "\n",
        "![](https://i.imgur.com/E2Up1Pk.png)"
      ]
    },
    {
      "cell_type": "markdown",
      "id": "desirable-possibility",
      "metadata": {
        "id": "desirable-possibility"
      },
      "source": [
        "### Input Data"
      ]
    },
    {
      "cell_type": "code",
      "execution_count": 118,
      "id": "according-lunch",
      "metadata": {
        "id": "according-lunch",
        "outputId": "da95c3f0-2943-48b8-ae05-5c334ab6fca5",
        "colab": {
          "base_uri": "https://localhost:8080/"
        }
      },
      "outputs": [
        {
          "output_type": "execute_result",
          "data": {
            "text/plain": [
              "(5, 7)"
            ]
          },
          "metadata": {},
          "execution_count": 118
        }
      ],
      "source": [
        "num_nodes1 = 5\n",
        "edges1 = [(0, 1), (1, 2), (2, 3), (3, 4), (4, 0), (1, 4), (1, 3)]\n",
        "num_nodes1, len(edges1)"
      ]
    },
    {
      "cell_type": "code",
      "execution_count": 119,
      "id": "italian-armor",
      "metadata": {
        "id": "italian-armor",
        "outputId": "583f4d3e-e8b2-4c79-e631-d2199ade673d",
        "colab": {
          "base_uri": "https://localhost:8080/"
        }
      },
      "outputs": [
        {
          "output_type": "execute_result",
          "data": {
            "text/plain": [
              "(9, 8)"
            ]
          },
          "metadata": {},
          "execution_count": 119
        }
      ],
      "source": [
        "num_nodes3 = 9\n",
        "edges3 = [(0, 1), (0, 3), (1, 2), (2, 3), (4, 5), (4, 6), (5, 6), (7, 8)]\n",
        "num_nodes3, len(edges3)"
      ]
    },
    {
      "cell_type": "code",
      "execution_count": 120,
      "id": "strategic-deposit",
      "metadata": {
        "id": "strategic-deposit",
        "outputId": "6a385956-fb22-4a9d-af4d-03aef7fe764d",
        "colab": {
          "base_uri": "https://localhost:8080/"
        }
      },
      "outputs": [
        {
          "output_type": "execute_result",
          "data": {
            "text/plain": [
              "(9, 10)"
            ]
          },
          "metadata": {},
          "execution_count": 120
        }
      ],
      "source": [
        "num_nodes5 = 9\n",
        "edges5 = [(0, 1, 3), (0, 3, 2), (0, 8, 4), (1, 7, 4), (2, 7, 2), (2, 3, 6), \n",
        "          (2, 5, 1), (3, 4, 1), (4, 8, 8), (5, 6, 8)]\n",
        "\n",
        "num_nodes5, len(edges5)"
      ]
    },
    {
      "cell_type": "code",
      "execution_count": 121,
      "id": "broke-hungarian",
      "metadata": {
        "id": "broke-hungarian",
        "outputId": "859d8b29-d654-447a-a84e-f6efb9f8fa45",
        "colab": {
          "base_uri": "https://localhost:8080/"
        }
      },
      "outputs": [
        {
          "output_type": "execute_result",
          "data": {
            "text/plain": [
              "(5, 6)"
            ]
          },
          "metadata": {},
          "execution_count": 121
        }
      ],
      "source": [
        "# Directed graph\n",
        "num_nodes6 = 5\n",
        "edges6 = [(0, 1), (1, 2), (2, 3), (2, 4), (4, 2), (3, 0)]\n",
        "num_nodes6, len(edges6)"
      ]
    },
    {
      "cell_type": "code",
      "execution_count": 122,
      "id": "instructional-sarah",
      "metadata": {
        "id": "instructional-sarah",
        "outputId": "a0261320-f646-4ab8-90b8-2d1ac52fdc47",
        "colab": {
          "base_uri": "https://localhost:8080/"
        }
      },
      "outputs": [
        {
          "output_type": "execute_result",
          "data": {
            "text/plain": [
              "(6, 7)"
            ]
          },
          "metadata": {},
          "execution_count": 122
        }
      ],
      "source": [
        "num_nodes7 = 6\n",
        "edges7 = [(0, 1, 4), (0, 2, 2), (1, 2, 5), (1, 3, 10), (2, 4, 3), (4, 3, 4), (3, 5, 11)]\n",
        "num_nodes7, len(edges7)"
      ]
    },
    {
      "cell_type": "markdown",
      "id": "homeless-hawaii",
      "metadata": {
        "id": "homeless-hawaii"
      },
      "source": [
        "### Adjacency List"
      ]
    },
    {
      "cell_type": "code",
      "execution_count": 123,
      "id": "promising-atlantic",
      "metadata": {
        "id": "promising-atlantic"
      },
      "outputs": [],
      "source": [
        "class Graph:\n",
        "    def __init__(self, num_nodes, edges):\n",
        "        self.data = [[] for _ in range(num_nodes)]\n",
        "        for v1, v2 in edges:\n",
        "            self.data[v1].append(v2)\n",
        "            self.data[v2].append(v1)\n",
        "            \n",
        "    def __repr__(self):\n",
        "        return \"\\n\".join([\"{} : {}\".format(i, neighbors) for (i, neighbors) in enumerate(self.data)])\n",
        "\n",
        "    def __str__(self):\n",
        "        return repr(self)"
      ]
    },
    {
      "cell_type": "code",
      "execution_count": 124,
      "id": "buried-brake",
      "metadata": {
        "id": "buried-brake"
      },
      "outputs": [],
      "source": [
        "g1 = Graph(num_nodes1, edges1)"
      ]
    },
    {
      "cell_type": "code",
      "execution_count": 125,
      "id": "honey-tension",
      "metadata": {
        "id": "honey-tension",
        "outputId": "0147b5dc-93a4-413b-f0a7-2526ea0f1205",
        "colab": {
          "base_uri": "https://localhost:8080/"
        }
      },
      "outputs": [
        {
          "output_type": "execute_result",
          "data": {
            "text/plain": [
              "0 : [1, 4]\n",
              "1 : [0, 2, 4, 3]\n",
              "2 : [1, 3]\n",
              "3 : [2, 4, 1]\n",
              "4 : [3, 0, 1]"
            ]
          },
          "metadata": {},
          "execution_count": 125
        }
      ],
      "source": [
        "g1"
      ]
    },
    {
      "cell_type": "markdown",
      "id": "caroline-smile",
      "metadata": {
        "id": "caroline-smile"
      },
      "source": [
        "### Adjacency Matrix"
      ]
    },
    {
      "cell_type": "code",
      "execution_count": 125,
      "id": "voluntary-border",
      "metadata": {
        "id": "voluntary-border"
      },
      "outputs": [],
      "source": [
        ""
      ]
    },
    {
      "cell_type": "code",
      "execution_count": 125,
      "id": "fantastic-vacation",
      "metadata": {
        "id": "fantastic-vacation"
      },
      "outputs": [],
      "source": [
        ""
      ]
    },
    {
      "cell_type": "markdown",
      "id": "fifty-portland",
      "metadata": {
        "id": "fifty-portland"
      },
      "source": [
        "### Breadth First Search\n",
        "\n",
        "Complexity $O(m + n)$"
      ]
    },
    {
      "cell_type": "code",
      "execution_count": 126,
      "id": "hairy-technique",
      "metadata": {
        "id": "hairy-technique"
      },
      "outputs": [],
      "source": [
        "def bfs(graph, source):\n",
        "    visited = [False] * len(graph.data)\n",
        "    queue = []\n",
        "    \n",
        "    visited[source] = True    \n",
        "    queue.append(source)\n",
        "    i = 0\n",
        "    \n",
        "    while i < len(queue):\n",
        "        for v in graph.data[queue[i]]:\n",
        "            if not visited[v]:\n",
        "                visited[v] = True\n",
        "                queue.append(v)\n",
        "        i += 1\n",
        "        \n",
        "    return queue"
      ]
    },
    {
      "cell_type": "code",
      "execution_count": 127,
      "id": "deluxe-trust",
      "metadata": {
        "id": "deluxe-trust",
        "outputId": "96a043b2-daec-4d3d-ad85-c8171f493fe3",
        "colab": {
          "base_uri": "https://localhost:8080/"
        }
      },
      "outputs": [
        {
          "output_type": "execute_result",
          "data": {
            "text/plain": [
              "[3, 2, 4, 1, 0]"
            ]
          },
          "metadata": {},
          "execution_count": 127
        }
      ],
      "source": [
        "bfs(g1, 3)"
      ]
    },
    {
      "cell_type": "markdown",
      "id": "active-simon",
      "metadata": {
        "id": "active-simon"
      },
      "source": [
        "### Depth First Search"
      ]
    },
    {
      "cell_type": "code",
      "execution_count": 128,
      "id": "august-passage",
      "metadata": {
        "id": "august-passage"
      },
      "outputs": [],
      "source": [
        "def dfs(graph, source):\n",
        "    visited = [False] * len(graph.data)\n",
        "    stack = [source]\n",
        "    result = []\n",
        "    \n",
        "    while len(stack) > 0:\n",
        "        current = stack.pop()\n",
        "        if not visited[current]:\n",
        "            result.append(current)\n",
        "            visited[current] = True\n",
        "            for v in graph.data[current]:\n",
        "                stack.append(v)\n",
        "                \n",
        "    return result"
      ]
    },
    {
      "cell_type": "code",
      "execution_count": 129,
      "id": "coordinate-public",
      "metadata": {
        "id": "coordinate-public",
        "outputId": "6e821754-321a-48d5-c172-6020e3e48732",
        "colab": {
          "base_uri": "https://localhost:8080/"
        }
      },
      "outputs": [
        {
          "output_type": "execute_result",
          "data": {
            "text/plain": [
              "[0, 4, 1, 3, 2]"
            ]
          },
          "metadata": {},
          "execution_count": 129
        }
      ],
      "source": [
        "dfs(g1, 0)"
      ]
    },
    {
      "cell_type": "markdown",
      "id": "lasting-directory",
      "metadata": {
        "id": "lasting-directory"
      },
      "source": [
        "### Directed and Weighted Graph"
      ]
    },
    {
      "cell_type": "code",
      "execution_count": 130,
      "id": "olympic-bridge",
      "metadata": {
        "id": "olympic-bridge"
      },
      "outputs": [],
      "source": [
        "class Graph:\n",
        "    def __init__(self, num_nodes, edges, directed=False):\n",
        "        self.data = [[] for _ in range(num_nodes)]\n",
        "        self.weight = [[] for _ in range(num_nodes)]\n",
        "        \n",
        "        self.directed = directed\n",
        "        self.weighted = len(edges) > 0 and len(edges[0]) == 3\n",
        "            \n",
        "        for e in edges:\n",
        "            self.data[e[0]].append(e[1])\n",
        "            if self.weighted:\n",
        "                self.weight[e[0]].append(e[2])\n",
        "            \n",
        "            if not directed:\n",
        "                self.data[e[1]].append(e[0])\n",
        "                if self.weighted:\n",
        "                    self.data[e[1]].append(e[2])\n",
        "                \n",
        "    def __repr__(self):\n",
        "        result = \"\"\n",
        "        for i in range(len(self.data)):\n",
        "            pairs = list(zip(self.data[i], self.weight[i]))\n",
        "            result += \"{}: {}\\n\".format(i, pairs)\n",
        "        return result\n",
        "\n",
        "    def __str__(self):\n",
        "        return repr(self)"
      ]
    },
    {
      "cell_type": "code",
      "execution_count": 131,
      "id": "monthly-vatican",
      "metadata": {
        "id": "monthly-vatican"
      },
      "outputs": [],
      "source": [
        "g7 = Graph(num_nodes7, edges7, directed=True)"
      ]
    },
    {
      "cell_type": "code",
      "execution_count": 132,
      "id": "entertaining-soundtrack",
      "metadata": {
        "id": "entertaining-soundtrack",
        "outputId": "b95dffaf-2f51-4c35-abc7-4b3534af8bc3",
        "colab": {
          "base_uri": "https://localhost:8080/"
        }
      },
      "outputs": [
        {
          "output_type": "execute_result",
          "data": {
            "text/plain": [
              "0: [(1, 4), (2, 2)]\n",
              "1: [(2, 5), (3, 10)]\n",
              "2: [(4, 3)]\n",
              "3: [(5, 11)]\n",
              "4: [(3, 4)]\n",
              "5: []"
            ]
          },
          "metadata": {},
          "execution_count": 132
        }
      ],
      "source": [
        "g7"
      ]
    },
    {
      "cell_type": "code",
      "execution_count": 133,
      "id": "related-senator",
      "metadata": {
        "id": "related-senator",
        "outputId": "77554cc4-5408-4766-8a76-4132e8e583c0",
        "colab": {
          "base_uri": "https://localhost:8080/"
        }
      },
      "outputs": [
        {
          "output_type": "execute_result",
          "data": {
            "text/plain": [
              "[[4, 2], [5, 10], [3], [11], [4], []]"
            ]
          },
          "metadata": {},
          "execution_count": 133
        }
      ],
      "source": [
        "g7.weight"
      ]
    },
    {
      "cell_type": "markdown",
      "id": "confident-rochester",
      "metadata": {
        "id": "confident-rochester"
      },
      "source": [
        "### Shortest Path - Dijkstra's Algorithm"
      ]
    },
    {
      "cell_type": "code",
      "execution_count": 134,
      "id": "pursuant-bedroom",
      "metadata": {
        "id": "pursuant-bedroom"
      },
      "outputs": [],
      "source": [
        "def update_distances(graph, current, distance, parent=None):\n",
        "    \"\"\"Update the distances of the current node's neighbors\"\"\"\n",
        "    neighbors = graph.data[current]\n",
        "    weights = graph.weight[current]\n",
        "    for i, node in enumerate(neighbors):\n",
        "        weight = weights[i]\n",
        "        if distance[current] + weight < distance[node]:\n",
        "            distance[node] = distance[current] + weight\n",
        "            if parent:\n",
        "                parent[node] = current\n",
        "\n",
        "def pick_next_node(distance, visited):\n",
        "    \"\"\"Pick the next univisited node at the smallest distance\"\"\"\n",
        "    min_distance = float('inf')\n",
        "    min_node = None\n",
        "    for node in range(len(distance)):\n",
        "        if not visited[node] and distance[node] < min_distance:\n",
        "            min_node = node\n",
        "            min_distance = distance[node]\n",
        "    return min_node\n",
        "        \n",
        "def shortest_path(graph, source, dest):\n",
        "    \"\"\"Find the length of the shortest path between source and destination\"\"\"\n",
        "    visited = [False] * len(graph.data)\n",
        "    distance = [float('inf')] * len(graph.data)\n",
        "    parent = [None] * len(graph.data)\n",
        "    queue = []\n",
        "    idx = 0\n",
        "    \n",
        "    queue.append(source)\n",
        "    distance[source] = 0\n",
        "    visited[source] = True\n",
        "    \n",
        "    while idx < len(queue) and not visited[dest]:\n",
        "        current = queue[idx]\n",
        "        update_distances(graph, current, distance, parent)\n",
        "        \n",
        "        next_node = pick_next_node(distance, visited)\n",
        "        if next_node is not None:\n",
        "            visited[next_node] = True\n",
        "            queue.append(next_node)\n",
        "        idx += 1\n",
        "        \n",
        "    return distance[dest], distance, parent"
      ]
    },
    {
      "cell_type": "markdown",
      "id": "celtic-tension",
      "metadata": {
        "id": "celtic-tension"
      },
      "source": [
        "<img src=\"https://i.imgur.com/Zn5cUkO.png\" width=\"400\">"
      ]
    },
    {
      "cell_type": "code",
      "execution_count": 135,
      "id": "grand-barbados",
      "metadata": {
        "id": "grand-barbados",
        "outputId": "6cc1b511-2081-44b8-e07e-2972b908b9db",
        "colab": {
          "base_uri": "https://localhost:8080/"
        }
      },
      "outputs": [
        {
          "output_type": "execute_result",
          "data": {
            "text/plain": [
              "(20, [0, 4, 2, 9, 5, 20], [None, 0, 0, 4, 2, 3])"
            ]
          },
          "metadata": {},
          "execution_count": 135
        }
      ],
      "source": [
        "shortest_path(g7, 0, 5)"
      ]
    },
    {
      "cell_type": "code",
      "execution_count": 136,
      "id": "advanced-decrease",
      "metadata": {
        "id": "advanced-decrease"
      },
      "outputs": [],
      "source": [
        "import jovian"
      ]
    },
    {
      "cell_type": "code",
      "execution_count": 137,
      "id": "injured-juice",
      "metadata": {
        "id": "injured-juice",
        "outputId": "799f8c1d-5e18-464f-c699-4d6875cf3c67",
        "colab": {
          "base_uri": "https://localhost:8080/",
          "height": 89
        }
      },
      "outputs": [
        {
          "output_type": "stream",
          "name": "stdout",
          "text": [
            "[jovian] Detected Colab notebook...\u001b[0m\n",
            "[jovian] Uploading colab notebook to Jovian...\u001b[0m\n",
            "Committed successfully! https://jovian.ai/nikhil-lokhande/python-graph-algorithms\n"
          ]
        },
        {
          "output_type": "execute_result",
          "data": {
            "application/vnd.google.colaboratory.intrinsic+json": {
              "type": "string"
            },
            "text/plain": [
              "'https://jovian.ai/nikhil-lokhande/python-graph-algorithms'"
            ]
          },
          "metadata": {},
          "execution_count": 137
        }
      ],
      "source": [
        "jovian.commit()"
      ]
    },
    {
      "cell_type": "code",
      "execution_count": 137,
      "id": "international-motor",
      "metadata": {
        "id": "international-motor"
      },
      "outputs": [],
      "source": [
        ""
      ]
    }
  ],
  "metadata": {
    "kernelspec": {
      "display_name": "Python 3",
      "language": "python",
      "name": "python3"
    },
    "language_info": {
      "codemirror_mode": {
        "name": "ipython",
        "version": 3
      },
      "file_extension": ".py",
      "mimetype": "text/x-python",
      "name": "python",
      "nbconvert_exporter": "python",
      "pygments_lexer": "ipython3",
      "version": "3.6.12"
    },
    "colab": {
      "name": "python-graph-algorithms.ipynb",
      "provenance": [],
      "collapsed_sections": [
        "coordinate-circle",
        "desirable-possibility",
        "homeless-hawaii",
        "caroline-smile",
        "fifty-portland",
        "active-simon",
        "lasting-directory",
        "confident-rochester"
      ],
      "include_colab_link": true
    }
  },
  "nbformat": 4,
  "nbformat_minor": 5
}